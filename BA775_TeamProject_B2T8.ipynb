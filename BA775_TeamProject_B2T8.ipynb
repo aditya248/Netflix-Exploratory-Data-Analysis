{
  "nbformat": 4,
  "nbformat_minor": 0,
  "metadata": {
    "colab": {
      "name": "BA775_TeamProject_B2T8.ipynb",
      "provenance": [],
      "include_colab_link": true
    },
    "kernelspec": {
      "name": "python3",
      "display_name": "Python 3"
    },
    "language_info": {
      "name": "python"
    }
  },
  "cells": [
    {
      "cell_type": "markdown",
      "metadata": {
        "id": "view-in-github",
        "colab_type": "text"
      },
      "source": [
        "<a href=\"https://colab.research.google.com/github/aditya248/Netflix-Exploratory-Data-Analysis/blob/main/BA775_TeamProject_B2T8.ipynb\" target=\"_parent\"><img src=\"https://colab.research.google.com/assets/colab-badge.svg\" alt=\"Open In Colab\"/></a>"
      ]
    },
    {
      "cell_type": "markdown",
      "metadata": {
        "id": "J7msiPQBeBuC"
      },
      "source": [
        "#BA775 - Team Project - Team 8\n",
        "##*Project Proposal*\n",
        "\n",
        "###**Summary Research for Netflix on it’s library**\n",
        "\n",
        "Our mission is to help Netflix summarize the details of their movie and TV show library to help them see trends on how their library has changed. We will also summarize Netflix materials based on popular genres and actors to compare with highest earning  and popular entertainment types so Netflix can maximize their user amount. \n",
        "\n",
        "**Source:**\n",
        "https://www.kaggle.com/shivamb/netflix-sh\n"
      ]
    },
    {
      "cell_type": "code",
      "metadata": {
        "id": "JzyeWz2D_rI5"
      },
      "source": [
        "from google.colab import auth\n",
        "auth.authenticate_user()"
      ],
      "execution_count": 3,
      "outputs": []
    },
    {
      "cell_type": "markdown",
      "metadata": {
        "id": "pMU9k7ng_p-g"
      },
      "source": [
        "##**Part 1 -** Overview of Netflix Library"
      ]
    },
    {
      "cell_type": "code",
      "metadata": {
        "id": "brtfVUPXWew-"
      },
      "source": [
        "%%bigquery --ba775-team8-b2\n"
      ],
      "execution_count": null,
      "outputs": []
    },
    {
      "cell_type": "markdown",
      "metadata": {
        "id": "gF_G-DONAaXT"
      },
      "source": [
        "##**Part 2 -** Netflix Movies"
      ]
    },
    {
      "cell_type": "code",
      "metadata": {
        "id": "4nK4DH6_49mV"
      },
      "source": [
        "## INNER JOIN two dataset and find out the top 10 rating movies"
      ],
      "execution_count": null,
      "outputs": []
    },
    {
      "cell_type": "code",
      "metadata": {
        "id": "NXPRIzuvfmM6"
      },
      "source": [
        "%%bigquery --project=ba775-team8-b2\n",
        "SELECT n.title, n.director, n.country, n.date_added, r.Rating\n",
        "FROM `ba775-team8-b2.Netflix.netflix_titles` as n\n",
        "INNER JOIN `ba775-team8-b2.Netflix.IMBd_movies_ratings` as r\n",
        "   ON lower(n.title) = lower(r.title)\n",
        "ORDER BY r.Rating DESC\n",
        "LIMIT 10"
      ],
      "execution_count": null,
      "outputs": []
    },
    {
      "cell_type": "code",
      "metadata": {
        "id": "hW3TA8tVG52c"
      },
      "source": [
        "## Find out the best movie for each year\n",
        "%%bigquery --project=ba775-team8-b2\n",
        "SELECT r.year, MAX(r.Rating) AS Best_Rating\n",
        "FROM `ba775-team8-b2.Netflix.netflix_titles` as n\n",
        "INNER JOIN `ba775-team8-b2.Netflix.IMBd_movies_ratings` as r\n",
        "  ON lower(n.title) = lower(r.title)\n",
        "GROUP BY r.year\n",
        "ORDER BY r.year\n",
        "\n"
      ],
      "execution_count": null,
      "outputs": []
    },
    {
      "cell_type": "code",
      "metadata": {
        "id": "tQ4R_np-4VIn"
      },
      "source": [
        "##INNER JOIN two dataset and find out the highest grossing movie\n",
        "%%bigquery --project=ba775-team8-b2\n",
        "SELECT n.title, n.director, n.country, n.date_added, r.Rating, r.Revenue__Millions_\n",
        "FROM `ba775-team8-b2.Netflix.netflix_titles` as n\n",
        "INNER JOIN `ba775-team8-b2.Netflix.IMBd_movies_ratings` as r\n",
        "   ON lower(n.title) = lower(r.title)\n",
        "ORDER BY r.Revenue__Millions_ DESC\n",
        "LIMIT 10"
      ],
      "execution_count": null,
      "outputs": []
    },
    {
      "cell_type": "code",
      "metadata": {
        "id": "vC93Y4WH63VP"
      },
      "source": [
        "#average rating over year\n",
        "%%bigquery --project=ba775-team8-b2\n",
        "SELECT r.year, AVG(r.Rating) AS average_rating\n",
        "FROM `ba775-team8-b2.Netflix.netflix_titles` as n\n",
        "INNER JOIN `ba775-team8-b2.Netflix.IMBd_movies_ratings` as r\n",
        "   ON lower(n.title) = lower(r.title)\n",
        "GROUP BY r.year\n",
        "ORDER BY average_rating DESC"
      ],
      "execution_count": null,
      "outputs": []
    },
    {
      "cell_type": "code",
      "metadata": {
        "id": "NXvmBe6b9l6E"
      },
      "source": [
        "##most favorite director\n",
        "%%bigquery --project=ba775-team8-b2\n",
        "SELECT n.title, n.director, n.date_added, n.country, r.Rating,\n",
        "FROM `ba775-team8-b2.Netflix.netflix_titles` as n\n",
        "INNER JOIN `ba775-team8-b2.Netflix.IMBd_movies_ratings` as r\n",
        "   ON lower(n.title) = lower(r.title)\n",
        "ORDER BY r.Rating DESC\n",
        "LIMIT 10"
      ],
      "execution_count": null,
      "outputs": []
    },
    {
      "cell_type": "markdown",
      "metadata": {
        "id": "ILjYB2qNAbcg"
      },
      "source": [
        "##**Part 3 -** Netflix TV Shows"
      ]
    },
    {
      "cell_type": "code",
      "metadata": {
        "id": "WyFLpW9MfnC_"
      },
      "source": [
        "%%bigquery --ba775-team8-b2\n"
      ],
      "execution_count": null,
      "outputs": []
    },
    {
      "cell_type": "markdown",
      "metadata": {
        "id": "cPJjr3Y8AcwR"
      },
      "source": [
        "##**Part 4 -** Trend over time"
      ]
    },
    {
      "cell_type": "code",
      "metadata": {
        "id": "MHHK_u_lfn07"
      },
      "source": [
        "%%bigquery --ba775-team8-b2\n"
      ],
      "execution_count": null,
      "outputs": []
    },
    {
      "cell_type": "markdown",
      "metadata": {
        "id": "KiHGF7pJAtK-"
      },
      "source": [
        "##**Part 5 -** Maximizing User Amount / Research Analysis Conclusion"
      ]
    },
    {
      "cell_type": "code",
      "metadata": {
        "id": "yfecWGpiA6xQ"
      },
      "source": [
        "%%bigquery --ba775-team8-b2\n"
      ],
      "execution_count": null,
      "outputs": []
    }
  ]
}