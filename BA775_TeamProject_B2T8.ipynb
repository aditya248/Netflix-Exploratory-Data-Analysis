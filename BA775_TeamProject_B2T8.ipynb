{
  "nbformat": 4,
  "nbformat_minor": 0,
  "metadata": {
    "colab": {
      "name": "BA775_TeamProject_B2T8.ipynb",
      "provenance": [],
      "authorship_tag": "ABX9TyPeua2ByJYi+BZlLdJVCUNg",
      "include_colab_link": true
    },
    "kernelspec": {
      "name": "python3",
      "display_name": "Python 3"
    },
    "language_info": {
      "name": "python"
    }
  },
  "cells": [
    {
      "cell_type": "markdown",
      "metadata": {
        "id": "view-in-github",
        "colab_type": "text"
      },
      "source": [
        "<a href=\"https://colab.research.google.com/github/aditya248/Netflix-Exploratory-Data-Analysis/blob/main/BA775_TeamProject_B2T8.ipynb\" target=\"_parent\"><img src=\"https://colab.research.google.com/assets/colab-badge.svg\" alt=\"Open In Colab\"/></a>"
      ]
    },
    {
      "cell_type": "markdown",
      "metadata": {
        "id": "J7msiPQBeBuC"
      },
      "source": [
        "#BA775 - Team Project - Team 8\n",
        "##*Project Proposal*\n",
        "\n",
        "###**Summary Research for Netflix on it’s library**\n",
        "\n",
        "Our mission is to help Netflix summarize the details of their movie and TV show library to help them see trends on how their library has changed. We will also summarize Netflix materials based on popular genres and actors to compare with highest earning  and popular entertainment types so Netflix can maximize their user amount. \n",
        "\n",
        "**Source:**\n",
        "https://www.kaggle.com/shivamb/netflix-sh\n"
      ]
    },
    {
      "cell_type": "code",
      "metadata": {
        "id": "brtfVUPXWew-"
      },
      "source": [
        "%%bigquery --ba775-team8-b2\n"
      ],
      "execution_count": null,
      "outputs": []
    },
    {
      "cell_type": "code",
      "metadata": {
        "id": "NXPRIzuvfmM6"
      },
      "source": [
        "%%bigquery --ba775-team8-b2\n"
      ],
      "execution_count": null,
      "outputs": []
    },
    {
      "cell_type": "code",
      "metadata": {
        "id": "WyFLpW9MfnC_"
      },
      "source": [
        "%%bigquery --ba775-team8-b2\n"
      ],
      "execution_count": null,
      "outputs": []
    },
    {
      "cell_type": "code",
      "metadata": {
        "id": "MHHK_u_lfn07"
      },
      "source": [
        "%%bigquery --ba775-team8-b2\n"
      ],
      "execution_count": null,
      "outputs": []
    }
  ]
}