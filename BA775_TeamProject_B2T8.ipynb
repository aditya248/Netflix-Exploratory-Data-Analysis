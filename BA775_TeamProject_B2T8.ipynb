{
  "nbformat": 4,
  "nbformat_minor": 0,
  "metadata": {
    "colab": {
      "name": "BA775_TeamProject_B2T8.ipynb",
      "provenance": [],
      "collapsed_sections": [],
      "include_colab_link": true
    },
    "kernelspec": {
      "name": "python3",
      "display_name": "Python 3"
    },
    "language_info": {
      "name": "python"
    }
  },
  "cells": [
    {
      "cell_type": "markdown",
      "metadata": {
        "id": "view-in-github",
        "colab_type": "text"
      },
      "source": [
        "<a href=\"https://colab.research.google.com/github/aditya248/Netflix-Exploratory-Data-Analysis/blob/main/BA775_TeamProject_B2T8.ipynb\" target=\"_parent\"><img src=\"https://colab.research.google.com/assets/colab-badge.svg\" alt=\"Open In Colab\"/></a>"
      ]
    },
    {
      "cell_type": "markdown",
      "metadata": {
        "id": "J7msiPQBeBuC"
      },
      "source": [
        "#BA775 - Team Project - Team 8\n",
        "##*Project Proposal*\n",
        "\n",
        "###**Summary Research for Netflix on it’s library**\n",
        "\n",
        "Our mission is to help Netflix summarize the details of their movie and TV show library to help them see trends on how their library has changed. We will also summarize Netflix materials based on popular genres and actors to compare with highest earning  and popular entertainment types so Netflix can maximize their user amount. \n",
        "\n",
        "**Source:**\n",
        "https://www.kaggle.com/shivamb/netflix-sh\n"
      ]
    },
    {
      "cell_type": "code",
      "metadata": {
        "id": "JzyeWz2D_rI5"
      },
      "source": [
        "from google.colab import auth\n",
        "auth.authenticate_user()"
      ],
      "execution_count": 5,
      "outputs": []
    },
    {
      "cell_type": "markdown",
      "metadata": {
        "id": "pMU9k7ng_p-g"
      },
      "source": [
        "##**Part 1 -** Overview of Netflix Library"
      ]
    },
    {
      "cell_type": "code",
      "metadata": {
        "id": "unCwJpbz7VLo"
      },
      "source": [
        "## Average duration of movie and TV shows -Hanyu"
      ],
      "execution_count": null,
      "outputs": []
    },
    {
      "cell_type": "code",
      "metadata": {
        "colab": {
          "base_uri": "https://localhost:8080/",
          "height": 111
        },
        "id": "e3AFb366-BvK",
        "outputId": "bde905fc-1dcc-49d5-e6cb-c8375ad7b351"
      },
      "source": [
        "%%bigquery --project=ba775-team8-b2\n",
        "SELECT type,AVG(new_duration) AS average_duration FROM\n",
        "(SELECT type,CAST(REPLACE(REPLACE(REPLACE(duration,'min',''),'Season',''),'s','') AS INT64) AS new_duration\n",
        "FROM `ba775-team8-b2.Netflix.netflix_titles`)\n",
        "GROUP BY type"
      ],
      "execution_count": 40,
      "outputs": [
        {
          "output_type": "execute_result",
          "data": {
            "text/html": [
              "<div>\n",
              "<style scoped>\n",
              "    .dataframe tbody tr th:only-of-type {\n",
              "        vertical-align: middle;\n",
              "    }\n",
              "\n",
              "    .dataframe tbody tr th {\n",
              "        vertical-align: top;\n",
              "    }\n",
              "\n",
              "    .dataframe thead th {\n",
              "        text-align: right;\n",
              "    }\n",
              "</style>\n",
              "<table border=\"1\" class=\"dataframe\">\n",
              "  <thead>\n",
              "    <tr style=\"text-align: right;\">\n",
              "      <th></th>\n",
              "      <th>type</th>\n",
              "      <th>average_duration</th>\n",
              "    </tr>\n",
              "  </thead>\n",
              "  <tbody>\n",
              "    <tr>\n",
              "      <th>0</th>\n",
              "      <td>Movie</td>\n",
              "      <td>99.307978</td>\n",
              "    </tr>\n",
              "    <tr>\n",
              "      <th>1</th>\n",
              "      <td>TV Show</td>\n",
              "      <td>1.775934</td>\n",
              "    </tr>\n",
              "  </tbody>\n",
              "</table>\n",
              "</div>"
            ],
            "text/plain": [
              "      type  average_duration\n",
              "0    Movie         99.307978\n",
              "1  TV Show          1.775934"
            ]
          },
          "metadata": {},
          "execution_count": 40
        }
      ]
    },
    {
      "cell_type": "code",
      "metadata": {
        "id": "KElBOILGGYIV"
      },
      "source": [
        "## Overview of Rating-Hanyu"
      ],
      "execution_count": null,
      "outputs": []
    },
    {
      "cell_type": "code",
      "metadata": {
        "colab": {
          "base_uri": "https://localhost:8080/",
          "height": 328
        },
        "id": "5697pvX_HH84",
        "outputId": "d4ece3ce-8640-483a-cc22-eaf338e6ebdd"
      },
      "source": [
        "%%bigquery --project=ba775-team8-b2\n",
        "#For TV show\n",
        "SELECT rating, COUNT(rating) AS count_rating FROM `ba775-team8-b2.Netflix.netflix_titles`\n",
        "WHERE type='TV Show' AND rating IS NOT NULL\n",
        "GROUP BY rating\n",
        "ORDER BY 2 DESC"
      ],
      "execution_count": 59,
      "outputs": [
        {
          "output_type": "execute_result",
          "data": {
            "text/html": [
              "<div>\n",
              "<style scoped>\n",
              "    .dataframe tbody tr th:only-of-type {\n",
              "        vertical-align: middle;\n",
              "    }\n",
              "\n",
              "    .dataframe tbody tr th {\n",
              "        vertical-align: top;\n",
              "    }\n",
              "\n",
              "    .dataframe thead th {\n",
              "        text-align: right;\n",
              "    }\n",
              "</style>\n",
              "<table border=\"1\" class=\"dataframe\">\n",
              "  <thead>\n",
              "    <tr style=\"text-align: right;\">\n",
              "      <th></th>\n",
              "      <th>rating</th>\n",
              "      <th>count_rating</th>\n",
              "    </tr>\n",
              "  </thead>\n",
              "  <tbody>\n",
              "    <tr>\n",
              "      <th>0</th>\n",
              "      <td>TV-MA</td>\n",
              "      <td>1018</td>\n",
              "    </tr>\n",
              "    <tr>\n",
              "      <th>1</th>\n",
              "      <td>TV-14</td>\n",
              "      <td>659</td>\n",
              "    </tr>\n",
              "    <tr>\n",
              "      <th>2</th>\n",
              "      <td>TV-PG</td>\n",
              "      <td>301</td>\n",
              "    </tr>\n",
              "    <tr>\n",
              "      <th>3</th>\n",
              "      <td>TV-Y7</td>\n",
              "      <td>176</td>\n",
              "    </tr>\n",
              "    <tr>\n",
              "      <th>4</th>\n",
              "      <td>TV-Y</td>\n",
              "      <td>163</td>\n",
              "    </tr>\n",
              "    <tr>\n",
              "      <th>5</th>\n",
              "      <td>TV-G</td>\n",
              "      <td>83</td>\n",
              "    </tr>\n",
              "    <tr>\n",
              "      <th>6</th>\n",
              "      <td>NR</td>\n",
              "      <td>5</td>\n",
              "    </tr>\n",
              "    <tr>\n",
              "      <th>7</th>\n",
              "      <td>R</td>\n",
              "      <td>2</td>\n",
              "    </tr>\n",
              "    <tr>\n",
              "      <th>8</th>\n",
              "      <td>TV-Y7-FV</td>\n",
              "      <td>1</td>\n",
              "    </tr>\n",
              "  </tbody>\n",
              "</table>\n",
              "</div>"
            ],
            "text/plain": [
              "     rating  count_rating\n",
              "0     TV-MA          1018\n",
              "1     TV-14           659\n",
              "2     TV-PG           301\n",
              "3     TV-Y7           176\n",
              "4      TV-Y           163\n",
              "5      TV-G            83\n",
              "6        NR             5\n",
              "7         R             2\n",
              "8  TV-Y7-FV             1"
            ]
          },
          "metadata": {},
          "execution_count": 59
        }
      ]
    },
    {
      "cell_type": "code",
      "metadata": {
        "id": "brtfVUPXWew-",
        "colab": {
          "base_uri": "https://localhost:8080/",
          "height": 483
        },
        "outputId": "181ce899-8d90-4156-fa6c-54a66adaad63"
      },
      "source": [
        "%%bigquery --project=ba775-team8-b2\n",
        "SELECT rating, COUNT(rating) AS count_rating FROM `ba775-team8-b2.Netflix.netflix_titles`\n",
        "WHERE type='Movie' AND rating IS NOT NULL\n",
        "GROUP BY rating\n",
        "ORDER BY 2 DESC \n"
      ],
      "execution_count": 58,
      "outputs": [
        {
          "output_type": "execute_result",
          "data": {
            "text/html": [
              "<div>\n",
              "<style scoped>\n",
              "    .dataframe tbody tr th:only-of-type {\n",
              "        vertical-align: middle;\n",
              "    }\n",
              "\n",
              "    .dataframe tbody tr th {\n",
              "        vertical-align: top;\n",
              "    }\n",
              "\n",
              "    .dataframe thead th {\n",
              "        text-align: right;\n",
              "    }\n",
              "</style>\n",
              "<table border=\"1\" class=\"dataframe\">\n",
              "  <thead>\n",
              "    <tr style=\"text-align: right;\">\n",
              "      <th></th>\n",
              "      <th>rating</th>\n",
              "      <th>count_rating</th>\n",
              "    </tr>\n",
              "  </thead>\n",
              "  <tbody>\n",
              "    <tr>\n",
              "      <th>0</th>\n",
              "      <td>TV-MA</td>\n",
              "      <td>1845</td>\n",
              "    </tr>\n",
              "    <tr>\n",
              "      <th>1</th>\n",
              "      <td>TV-14</td>\n",
              "      <td>1272</td>\n",
              "    </tr>\n",
              "    <tr>\n",
              "      <th>2</th>\n",
              "      <td>R</td>\n",
              "      <td>663</td>\n",
              "    </tr>\n",
              "    <tr>\n",
              "      <th>3</th>\n",
              "      <td>TV-PG</td>\n",
              "      <td>505</td>\n",
              "    </tr>\n",
              "    <tr>\n",
              "      <th>4</th>\n",
              "      <td>PG-13</td>\n",
              "      <td>386</td>\n",
              "    </tr>\n",
              "    <tr>\n",
              "      <th>5</th>\n",
              "      <td>PG</td>\n",
              "      <td>247</td>\n",
              "    </tr>\n",
              "    <tr>\n",
              "      <th>6</th>\n",
              "      <td>TV-Y</td>\n",
              "      <td>117</td>\n",
              "    </tr>\n",
              "    <tr>\n",
              "      <th>7</th>\n",
              "      <td>TV-G</td>\n",
              "      <td>111</td>\n",
              "    </tr>\n",
              "    <tr>\n",
              "      <th>8</th>\n",
              "      <td>TV-Y7</td>\n",
              "      <td>95</td>\n",
              "    </tr>\n",
              "    <tr>\n",
              "      <th>9</th>\n",
              "      <td>NR</td>\n",
              "      <td>79</td>\n",
              "    </tr>\n",
              "    <tr>\n",
              "      <th>10</th>\n",
              "      <td>G</td>\n",
              "      <td>39</td>\n",
              "    </tr>\n",
              "    <tr>\n",
              "      <th>11</th>\n",
              "      <td>UR</td>\n",
              "      <td>5</td>\n",
              "    </tr>\n",
              "    <tr>\n",
              "      <th>12</th>\n",
              "      <td>TV-Y7-FV</td>\n",
              "      <td>5</td>\n",
              "    </tr>\n",
              "    <tr>\n",
              "      <th>13</th>\n",
              "      <td>NC-17</td>\n",
              "      <td>3</td>\n",
              "    </tr>\n",
              "  </tbody>\n",
              "</table>\n",
              "</div>"
            ],
            "text/plain": [
              "      rating  count_rating\n",
              "0      TV-MA          1845\n",
              "1      TV-14          1272\n",
              "2          R           663\n",
              "3      TV-PG           505\n",
              "4      PG-13           386\n",
              "5         PG           247\n",
              "6       TV-Y           117\n",
              "7       TV-G           111\n",
              "8      TV-Y7            95\n",
              "9         NR            79\n",
              "10         G            39\n",
              "11        UR             5\n",
              "12  TV-Y7-FV             5\n",
              "13     NC-17             3"
            ]
          },
          "metadata": {},
          "execution_count": 58
        }
      ]
    },
    {
      "cell_type": "code",
      "metadata": {
        "id": "nXcPZN4EHwUH"
      },
      "source": [
        "## Movies/TV shows Released by Year -Hanyu"
      ],
      "execution_count": null,
      "outputs": []
    },
    {
      "cell_type": "code",
      "metadata": {
        "colab": {
          "base_uri": "https://localhost:8080/",
          "height": 419
        },
        "id": "6hFE9WO4IXNi",
        "outputId": "f0b6eef1-8a29-47e2-d0a3-0890252a1acf"
      },
      "source": [
        "%%bigquery --project=ba775-team8-b2\n",
        "SELECT release_year, COUNT(release_year) AS movie_added FROM `ba775-team8-b2.Netflix.netflix_titles`\n",
        "GROUP BY release_year\n",
        "ORDER BY release_year"
      ],
      "execution_count": 57,
      "outputs": [
        {
          "output_type": "execute_result",
          "data": {
            "text/html": [
              "<div>\n",
              "<style scoped>\n",
              "    .dataframe tbody tr th:only-of-type {\n",
              "        vertical-align: middle;\n",
              "    }\n",
              "\n",
              "    .dataframe tbody tr th {\n",
              "        vertical-align: top;\n",
              "    }\n",
              "\n",
              "    .dataframe thead th {\n",
              "        text-align: right;\n",
              "    }\n",
              "</style>\n",
              "<table border=\"1\" class=\"dataframe\">\n",
              "  <thead>\n",
              "    <tr style=\"text-align: right;\">\n",
              "      <th></th>\n",
              "      <th>release_year</th>\n",
              "      <th>movie_added</th>\n",
              "    </tr>\n",
              "  </thead>\n",
              "  <tbody>\n",
              "    <tr>\n",
              "      <th>0</th>\n",
              "      <td>1925</td>\n",
              "      <td>1</td>\n",
              "    </tr>\n",
              "    <tr>\n",
              "      <th>1</th>\n",
              "      <td>1942</td>\n",
              "      <td>2</td>\n",
              "    </tr>\n",
              "    <tr>\n",
              "      <th>2</th>\n",
              "      <td>1943</td>\n",
              "      <td>3</td>\n",
              "    </tr>\n",
              "    <tr>\n",
              "      <th>3</th>\n",
              "      <td>1944</td>\n",
              "      <td>3</td>\n",
              "    </tr>\n",
              "    <tr>\n",
              "      <th>4</th>\n",
              "      <td>1945</td>\n",
              "      <td>3</td>\n",
              "    </tr>\n",
              "    <tr>\n",
              "      <th>...</th>\n",
              "      <td>...</td>\n",
              "      <td>...</td>\n",
              "    </tr>\n",
              "    <tr>\n",
              "      <th>68</th>\n",
              "      <td>2017</td>\n",
              "      <td>1012</td>\n",
              "    </tr>\n",
              "    <tr>\n",
              "      <th>69</th>\n",
              "      <td>2018</td>\n",
              "      <td>1121</td>\n",
              "    </tr>\n",
              "    <tr>\n",
              "      <th>70</th>\n",
              "      <td>2019</td>\n",
              "      <td>996</td>\n",
              "    </tr>\n",
              "    <tr>\n",
              "      <th>71</th>\n",
              "      <td>2020</td>\n",
              "      <td>868</td>\n",
              "    </tr>\n",
              "    <tr>\n",
              "      <th>72</th>\n",
              "      <td>2021</td>\n",
              "      <td>31</td>\n",
              "    </tr>\n",
              "  </tbody>\n",
              "</table>\n",
              "<p>73 rows × 2 columns</p>\n",
              "</div>"
            ],
            "text/plain": [
              "    release_year  movie_added\n",
              "0           1925            1\n",
              "1           1942            2\n",
              "2           1943            3\n",
              "3           1944            3\n",
              "4           1945            3\n",
              "..           ...          ...\n",
              "68          2017         1012\n",
              "69          2018         1121\n",
              "70          2019          996\n",
              "71          2020          868\n",
              "72          2021           31\n",
              "\n",
              "[73 rows x 2 columns]"
            ]
          },
          "metadata": {},
          "execution_count": 57
        }
      ]
    },
    {
      "cell_type": "code",
      "metadata": {
        "id": "yG-I3tXzKgsc"
      },
      "source": [
        "## Popular Directors in Netflix -Hanyu"
      ],
      "execution_count": null,
      "outputs": []
    },
    {
      "cell_type": "code",
      "metadata": {
        "colab": {
          "base_uri": "https://localhost:8080/",
          "height": 419
        },
        "id": "_Kv6PLuUKkGR",
        "outputId": "480c0daf-866d-4c02-e7db-7da22fda45ad"
      },
      "source": [
        "%%bigquery --project=ba775-team8-b2\n",
        "SELECT director, COUNT(director) AS time_appeared\n",
        "FROM `ba775-team8-b2.Netflix.netflix_titles`\n",
        "WHERE director IS NOT NULL\n",
        "GROUP BY 1\n",
        "ORDER BY 2 DESC"
      ],
      "execution_count": 68,
      "outputs": [
        {
          "output_type": "execute_result",
          "data": {
            "text/html": [
              "<div>\n",
              "<style scoped>\n",
              "    .dataframe tbody tr th:only-of-type {\n",
              "        vertical-align: middle;\n",
              "    }\n",
              "\n",
              "    .dataframe tbody tr th {\n",
              "        vertical-align: top;\n",
              "    }\n",
              "\n",
              "    .dataframe thead th {\n",
              "        text-align: right;\n",
              "    }\n",
              "</style>\n",
              "<table border=\"1\" class=\"dataframe\">\n",
              "  <thead>\n",
              "    <tr style=\"text-align: right;\">\n",
              "      <th></th>\n",
              "      <th>director</th>\n",
              "      <th>time_appeared</th>\n",
              "    </tr>\n",
              "  </thead>\n",
              "  <tbody>\n",
              "    <tr>\n",
              "      <th>0</th>\n",
              "      <td>Raúl Campos, Jan Suter</td>\n",
              "      <td>18</td>\n",
              "    </tr>\n",
              "    <tr>\n",
              "      <th>1</th>\n",
              "      <td>Marcus Raboy</td>\n",
              "      <td>16</td>\n",
              "    </tr>\n",
              "    <tr>\n",
              "      <th>2</th>\n",
              "      <td>Jay Karas</td>\n",
              "      <td>14</td>\n",
              "    </tr>\n",
              "    <tr>\n",
              "      <th>3</th>\n",
              "      <td>Cathy Garcia-Molina</td>\n",
              "      <td>13</td>\n",
              "    </tr>\n",
              "    <tr>\n",
              "      <th>4</th>\n",
              "      <td>Martin Scorsese</td>\n",
              "      <td>12</td>\n",
              "    </tr>\n",
              "    <tr>\n",
              "      <th>...</th>\n",
              "      <td>...</td>\n",
              "      <td>...</td>\n",
              "    </tr>\n",
              "    <tr>\n",
              "      <th>4044</th>\n",
              "      <td>Max Lang, Jani Lachauer</td>\n",
              "      <td>1</td>\n",
              "    </tr>\n",
              "    <tr>\n",
              "      <th>4045</th>\n",
              "      <td>Joe Murray, Cosmo Segurson</td>\n",
              "      <td>1</td>\n",
              "    </tr>\n",
              "    <tr>\n",
              "      <th>4046</th>\n",
              "      <td>Joel Crawford</td>\n",
              "      <td>1</td>\n",
              "    </tr>\n",
              "    <tr>\n",
              "      <th>4047</th>\n",
              "      <td>Mario Cambi</td>\n",
              "      <td>1</td>\n",
              "    </tr>\n",
              "    <tr>\n",
              "      <th>4048</th>\n",
              "      <td>Suhas Kadav</td>\n",
              "      <td>1</td>\n",
              "    </tr>\n",
              "  </tbody>\n",
              "</table>\n",
              "<p>4049 rows × 2 columns</p>\n",
              "</div>"
            ],
            "text/plain": [
              "                        director  time_appeared\n",
              "0         Raúl Campos, Jan Suter             18\n",
              "1                   Marcus Raboy             16\n",
              "2                      Jay Karas             14\n",
              "3            Cathy Garcia-Molina             13\n",
              "4                Martin Scorsese             12\n",
              "...                          ...            ...\n",
              "4044     Max Lang, Jani Lachauer              1\n",
              "4045  Joe Murray, Cosmo Segurson              1\n",
              "4046               Joel Crawford              1\n",
              "4047                 Mario Cambi              1\n",
              "4048                 Suhas Kadav              1\n",
              "\n",
              "[4049 rows x 2 columns]"
            ]
          },
          "metadata": {},
          "execution_count": 68
        }
      ]
    },
    {
      "cell_type": "markdown",
      "metadata": {
        "id": "gF_G-DONAaXT"
      },
      "source": [
        "##**Part 2 -** Netflix Movies"
      ]
    },
    {
      "cell_type": "code",
      "metadata": {
        "id": "4nK4DH6_49mV"
      },
      "source": [
        "## INNER JOIN two dataset and find out the top 10 rating movies"
      ],
      "execution_count": null,
      "outputs": []
    },
    {
      "cell_type": "code",
      "metadata": {
        "id": "NXPRIzuvfmM6",
        "colab": {
          "base_uri": "https://localhost:8080/",
          "height": 359
        },
        "outputId": "e9caa6e3-d5cf-4f46-a0ca-5dbf2079160e"
      },
      "source": [
        "%%bigquery --project=ba775-team8-b2\n",
        "SELECT n.title, n.director, n.country, n.date_added, r.Rating\n",
        "FROM `ba775-team8-b2.Netflix.netflix_titles` as n\n",
        "INNER JOIN `ba775-team8-b2.Netflix.IMBd_movies_ratings` as r\n",
        "   ON lower(n.title) = lower(r.title)\n",
        "ORDER BY r.Rating DESC\n",
        "LIMIT 10"
      ],
      "execution_count": null,
      "outputs": [
        {
          "output_type": "execute_result",
          "data": {
            "text/html": [
              "<div>\n",
              "<style scoped>\n",
              "    .dataframe tbody tr th:only-of-type {\n",
              "        vertical-align: middle;\n",
              "    }\n",
              "\n",
              "    .dataframe tbody tr th {\n",
              "        vertical-align: top;\n",
              "    }\n",
              "\n",
              "    .dataframe thead th {\n",
              "        text-align: right;\n",
              "    }\n",
              "</style>\n",
              "<table border=\"1\" class=\"dataframe\">\n",
              "  <thead>\n",
              "    <tr style=\"text-align: right;\">\n",
              "      <th></th>\n",
              "      <th>title</th>\n",
              "      <th>director</th>\n",
              "      <th>country</th>\n",
              "      <th>date_added</th>\n",
              "      <th>Rating</th>\n",
              "    </tr>\n",
              "  </thead>\n",
              "  <tbody>\n",
              "    <tr>\n",
              "      <th>0</th>\n",
              "      <td>Inception</td>\n",
              "      <td>Christopher Nolan</td>\n",
              "      <td>United States, United Kingdom</td>\n",
              "      <td>January 1, 2020</td>\n",
              "      <td>8.8</td>\n",
              "    </tr>\n",
              "    <tr>\n",
              "      <th>1</th>\n",
              "      <td>Dangal</td>\n",
              "      <td>Nitesh Tiwari</td>\n",
              "      <td>India</td>\n",
              "      <td>June 21, 2017</td>\n",
              "      <td>8.8</td>\n",
              "    </tr>\n",
              "    <tr>\n",
              "      <th>2</th>\n",
              "      <td>The Intouchables</td>\n",
              "      <td>Olivier Nakache, Éric Toledano</td>\n",
              "      <td>France</td>\n",
              "      <td>January 11, 2021</td>\n",
              "      <td>8.6</td>\n",
              "    </tr>\n",
              "    <tr>\n",
              "      <th>3</th>\n",
              "      <td>Taare Zameen Par</td>\n",
              "      <td>Aamir Khan</td>\n",
              "      <td>India</td>\n",
              "      <td>January 10, 2021</td>\n",
              "      <td>8.5</td>\n",
              "    </tr>\n",
              "    <tr>\n",
              "      <th>4</th>\n",
              "      <td>The Departed</td>\n",
              "      <td>Martin Scorsese</td>\n",
              "      <td>United States, Hong Kong</td>\n",
              "      <td>January 1, 2021</td>\n",
              "      <td>8.5</td>\n",
              "    </tr>\n",
              "    <tr>\n",
              "      <th>5</th>\n",
              "      <td>The Lives of Others</td>\n",
              "      <td>Florian Henckel von Donnersmarck</td>\n",
              "      <td>Germany</td>\n",
              "      <td>March 15, 2019</td>\n",
              "      <td>8.5</td>\n",
              "    </tr>\n",
              "    <tr>\n",
              "      <th>6</th>\n",
              "      <td>3 Idiots</td>\n",
              "      <td>Rajkumar Hirani</td>\n",
              "      <td>India</td>\n",
              "      <td>August 1, 2019</td>\n",
              "      <td>8.4</td>\n",
              "    </tr>\n",
              "    <tr>\n",
              "      <th>7</th>\n",
              "      <td>Django Unchained</td>\n",
              "      <td>Quentin Tarantino</td>\n",
              "      <td>United States</td>\n",
              "      <td>April 25, 2020</td>\n",
              "      <td>8.4</td>\n",
              "    </tr>\n",
              "    <tr>\n",
              "      <th>8</th>\n",
              "      <td>Inglourious Basterds</td>\n",
              "      <td>Quentin Tarantino</td>\n",
              "      <td>Germany, United States</td>\n",
              "      <td>July 22, 2019</td>\n",
              "      <td>8.3</td>\n",
              "    </tr>\n",
              "    <tr>\n",
              "      <th>9</th>\n",
              "      <td>Paint It Black</td>\n",
              "      <td>Amber Tamblyn</td>\n",
              "      <td>United States</td>\n",
              "      <td>February 1, 2018</td>\n",
              "      <td>8.3</td>\n",
              "    </tr>\n",
              "  </tbody>\n",
              "</table>\n",
              "</div>"
            ],
            "text/plain": [
              "                  title  ... Rating\n",
              "0             Inception  ...    8.8\n",
              "1                Dangal  ...    8.8\n",
              "2      The Intouchables  ...    8.6\n",
              "3      Taare Zameen Par  ...    8.5\n",
              "4          The Departed  ...    8.5\n",
              "5   The Lives of Others  ...    8.5\n",
              "6              3 Idiots  ...    8.4\n",
              "7      Django Unchained  ...    8.4\n",
              "8  Inglourious Basterds  ...    8.3\n",
              "9        Paint It Black  ...    8.3\n",
              "\n",
              "[10 rows x 5 columns]"
            ]
          },
          "metadata": {},
          "execution_count": 6
        }
      ]
    },
    {
      "cell_type": "markdown",
      "metadata": {
        "id": "hESlcsAb3-x4"
      },
      "source": [
        "INNER JOIN two dataset and find out the highest grossing movie"
      ]
    },
    {
      "cell_type": "code",
      "metadata": {
        "colab": {
          "base_uri": "https://localhost:8080/",
          "height": 419
        },
        "id": "tQ4R_np-4VIn",
        "outputId": "1e25bea4-8cb5-4bd7-b008-21b3bfa708a2"
      },
      "source": [
        "%%bigquery --project=ba775-team8-b2\n",
        "SELECT n.title, n.director, n.country, n.date_added, r.Rating, r.Revenue__Millions_\n",
        "FROM `ba775-team8-b2.Netflix.netflix_titles` as n\n",
        "INNER JOIN `ba775-team8-b2.Netflix.IMBd_movies_ratings` as r\n",
        "   ON lower(n.title) = lower(r.title)\n",
        "ORDER BY r.Revenue__Millions_ DESC"
      ],
      "execution_count": null,
      "outputs": [
        {
          "output_type": "execute_result",
          "data": {
            "text/html": [
              "<div>\n",
              "<style scoped>\n",
              "    .dataframe tbody tr th:only-of-type {\n",
              "        vertical-align: middle;\n",
              "    }\n",
              "\n",
              "    .dataframe tbody tr th {\n",
              "        vertical-align: top;\n",
              "    }\n",
              "\n",
              "    .dataframe thead th {\n",
              "        text-align: right;\n",
              "    }\n",
              "</style>\n",
              "<table border=\"1\" class=\"dataframe\">\n",
              "  <thead>\n",
              "    <tr style=\"text-align: right;\">\n",
              "      <th></th>\n",
              "      <th>title</th>\n",
              "      <th>director</th>\n",
              "      <th>country</th>\n",
              "      <th>date_added</th>\n",
              "      <th>Rating</th>\n",
              "      <th>Revenue__Millions_</th>\n",
              "    </tr>\n",
              "  </thead>\n",
              "  <tbody>\n",
              "    <tr>\n",
              "      <th>0</th>\n",
              "      <td>The Jungle Book</td>\n",
              "      <td>None</td>\n",
              "      <td>India, Germany, France</td>\n",
              "      <td>May 11, 2019</td>\n",
              "      <td>7.5</td>\n",
              "      <td>364.00</td>\n",
              "    </tr>\n",
              "    <tr>\n",
              "      <th>1</th>\n",
              "      <td>Spider-Man 3</td>\n",
              "      <td>Sam Raimi</td>\n",
              "      <td>United States</td>\n",
              "      <td>November 1, 2019</td>\n",
              "      <td>6.2</td>\n",
              "      <td>336.53</td>\n",
              "    </tr>\n",
              "    <tr>\n",
              "      <th>2</th>\n",
              "      <td>Indiana Jones and the Kingdom of the Crystal S...</td>\n",
              "      <td>Steven Spielberg</td>\n",
              "      <td>United States</td>\n",
              "      <td>January 1, 2019</td>\n",
              "      <td>6.2</td>\n",
              "      <td>317.01</td>\n",
              "    </tr>\n",
              "    <tr>\n",
              "      <th>3</th>\n",
              "      <td>Inception</td>\n",
              "      <td>Christopher Nolan</td>\n",
              "      <td>United States, United Kingdom</td>\n",
              "      <td>January 1, 2020</td>\n",
              "      <td>8.8</td>\n",
              "      <td>292.57</td>\n",
              "    </tr>\n",
              "    <tr>\n",
              "      <th>4</th>\n",
              "      <td>Star Trek</td>\n",
              "      <td>None</td>\n",
              "      <td>United States</td>\n",
              "      <td>October 1, 2017</td>\n",
              "      <td>8.0</td>\n",
              "      <td>257.70</td>\n",
              "    </tr>\n",
              "    <tr>\n",
              "      <th>...</th>\n",
              "      <td>...</td>\n",
              "      <td>...</td>\n",
              "      <td>...</td>\n",
              "      <td>...</td>\n",
              "      <td>...</td>\n",
              "      <td>...</td>\n",
              "    </tr>\n",
              "    <tr>\n",
              "      <th>243</th>\n",
              "      <td>Paint It Black</td>\n",
              "      <td>Amber Tamblyn</td>\n",
              "      <td>United States</td>\n",
              "      <td>February 1, 2018</td>\n",
              "      <td>8.3</td>\n",
              "      <td>NaN</td>\n",
              "    </tr>\n",
              "    <tr>\n",
              "      <th>244</th>\n",
              "      <td>I, Daniel Blake</td>\n",
              "      <td>Ken Loach</td>\n",
              "      <td>United Kingdom, France, Belgium</td>\n",
              "      <td>April 19, 2019</td>\n",
              "      <td>7.9</td>\n",
              "      <td>NaN</td>\n",
              "    </tr>\n",
              "    <tr>\n",
              "      <th>245</th>\n",
              "      <td>Tramps</td>\n",
              "      <td>Adam Leon</td>\n",
              "      <td>United States</td>\n",
              "      <td>April 21, 2017</td>\n",
              "      <td>6.5</td>\n",
              "      <td>NaN</td>\n",
              "    </tr>\n",
              "    <tr>\n",
              "      <th>246</th>\n",
              "      <td>The Siege of Jadotville</td>\n",
              "      <td>Richie Smyth</td>\n",
              "      <td>Ireland, South Africa</td>\n",
              "      <td>October 7, 2016</td>\n",
              "      <td>7.3</td>\n",
              "      <td>NaN</td>\n",
              "    </tr>\n",
              "    <tr>\n",
              "      <th>247</th>\n",
              "      <td>Good Kids</td>\n",
              "      <td>Chris McCoy</td>\n",
              "      <td>United States</td>\n",
              "      <td>January 19, 2017</td>\n",
              "      <td>6.1</td>\n",
              "      <td>NaN</td>\n",
              "    </tr>\n",
              "  </tbody>\n",
              "</table>\n",
              "<p>248 rows × 6 columns</p>\n",
              "</div>"
            ],
            "text/plain": [
              "                                                 title  ... Revenue__Millions_\n",
              "0                                      The Jungle Book  ...             364.00\n",
              "1                                         Spider-Man 3  ...             336.53\n",
              "2    Indiana Jones and the Kingdom of the Crystal S...  ...             317.01\n",
              "3                                            Inception  ...             292.57\n",
              "4                                            Star Trek  ...             257.70\n",
              "..                                                 ...  ...                ...\n",
              "243                                     Paint It Black  ...                NaN\n",
              "244                                    I, Daniel Blake  ...                NaN\n",
              "245                                             Tramps  ...                NaN\n",
              "246                            The Siege of Jadotville  ...                NaN\n",
              "247                                          Good Kids  ...                NaN\n",
              "\n",
              "[248 rows x 6 columns]"
            ]
          },
          "metadata": {},
          "execution_count": 7
        }
      ]
    },
    {
      "cell_type": "code",
      "metadata": {
        "colab": {
          "base_uri": "https://localhost:8080/",
          "height": 235
        },
        "id": "5ueckb_zMPzE",
        "outputId": "e49fb8cc-141b-49b8-9716-dc6418fde6cf"
      },
      "source": [
        "## Distribution of duration for Movies -Hanyu\n",
        "%%bigquery --project=ba775-team8-b2\n",
        "SELECT duration_range, COUNT(*) AS num_movies FROM \n",
        "(\n",
        "SELECT CASE \n",
        "WHEN CAST(REPLACE(duration,'min','') AS INT64) <40 THEN '0-40'\n",
        "WHEN CAST(REPLACE(duration,'min','') AS INT64) BETWEEN 40 AND 80 THEN '40-80'\n",
        "WHEN CAST(REPLACE(duration,'min','') AS INT64) BETWEEN 80 AND 120 THEN '80-120'\n",
        "WHEN CAST(REPLACE(duration,'min','') AS INT64) BETWEEN 120 AND 160 THEN '120-160'\n",
        "WHEN CAST(REPLACE(duration,'min','') AS INT64) BETWEEN 160 AND 200 THEN '160-200'\n",
        "ELSE '200+' END AS duration_range\n",
        "FROM `ba775-team8-b2.Netflix.netflix_titles`\n",
        "WHERE type='Movie'\n",
        ")\n",
        "GROUP BY duration_range\n",
        "ORDER BY duration_range ###order???\n",
        " \n"
      ],
      "execution_count": 103,
      "outputs": [
        {
          "output_type": "execute_result",
          "data": {
            "text/html": [
              "<div>\n",
              "<style scoped>\n",
              "    .dataframe tbody tr th:only-of-type {\n",
              "        vertical-align: middle;\n",
              "    }\n",
              "\n",
              "    .dataframe tbody tr th {\n",
              "        vertical-align: top;\n",
              "    }\n",
              "\n",
              "    .dataframe thead th {\n",
              "        text-align: right;\n",
              "    }\n",
              "</style>\n",
              "<table border=\"1\" class=\"dataframe\">\n",
              "  <thead>\n",
              "    <tr style=\"text-align: right;\">\n",
              "      <th></th>\n",
              "      <th>duration_range</th>\n",
              "      <th>num_movies</th>\n",
              "    </tr>\n",
              "  </thead>\n",
              "  <tbody>\n",
              "    <tr>\n",
              "      <th>0</th>\n",
              "      <td>0-40</td>\n",
              "      <td>146</td>\n",
              "    </tr>\n",
              "    <tr>\n",
              "      <th>1</th>\n",
              "      <td>120-160</td>\n",
              "      <td>874</td>\n",
              "    </tr>\n",
              "    <tr>\n",
              "      <th>2</th>\n",
              "      <td>160-200</td>\n",
              "      <td>122</td>\n",
              "    </tr>\n",
              "    <tr>\n",
              "      <th>3</th>\n",
              "      <td>200+</td>\n",
              "      <td>15</td>\n",
              "    </tr>\n",
              "    <tr>\n",
              "      <th>4</th>\n",
              "      <td>40-80</td>\n",
              "      <td>848</td>\n",
              "    </tr>\n",
              "    <tr>\n",
              "      <th>5</th>\n",
              "      <td>80-120</td>\n",
              "      <td>3372</td>\n",
              "    </tr>\n",
              "  </tbody>\n",
              "</table>\n",
              "</div>"
            ],
            "text/plain": [
              "  duration_range  num_movies\n",
              "0           0-40         146\n",
              "1        120-160         874\n",
              "2        160-200         122\n",
              "3           200+          15\n",
              "4          40-80         848\n",
              "5         80-120        3372"
            ]
          },
          "metadata": {},
          "execution_count": 103
        }
      ]
    },
    {
      "cell_type": "markdown",
      "metadata": {
        "id": "ILjYB2qNAbcg"
      },
      "source": [
        "##**Part 3 -** Netflix TV Shows"
      ]
    },
    {
      "cell_type": "code",
      "metadata": {
        "id": "WyFLpW9MfnC_"
      },
      "source": [
        "%%bigquery --ba775-team8-b2\n"
      ],
      "execution_count": null,
      "outputs": []
    },
    {
      "cell_type": "markdown",
      "metadata": {
        "id": "cPJjr3Y8AcwR"
      },
      "source": [
        "##**Part 4 -** Trend over time"
      ]
    },
    {
      "cell_type": "code",
      "metadata": {
        "id": "MHHK_u_lfn07"
      },
      "source": [
        "%%bigquery --ba775-team8-b2\n"
      ],
      "execution_count": null,
      "outputs": []
    },
    {
      "cell_type": "markdown",
      "metadata": {
        "id": "KiHGF7pJAtK-"
      },
      "source": [
        "##**Part 5 -** Maximizing User Amount / Research Analysis Conclusion"
      ]
    },
    {
      "cell_type": "code",
      "metadata": {
        "id": "yfecWGpiA6xQ"
      },
      "source": [
        "%%bigquery --ba775-team8-b2\n"
      ],
      "execution_count": null,
      "outputs": []
    }
  ]
}