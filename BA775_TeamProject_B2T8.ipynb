{
  "nbformat": 4,
  "nbformat_minor": 0,
  "metadata": {
    "colab": {
      "name": "BA775_TeamProject_B2T8.ipynb",
      "provenance": [],
      "collapsed_sections": [
        "pMU9k7ng_p-g",
        "gF_G-DONAaXT",
        "ILjYB2qNAbcg",
        "cPJjr3Y8AcwR",
        "KiHGF7pJAtK-"
      ],
      "include_colab_link": true
    },
    "kernelspec": {
      "name": "python3",
      "display_name": "Python 3"
    },
    "language_info": {
      "name": "python"
    }
  },
  "cells": [
    {
      "cell_type": "markdown",
      "metadata": {
        "id": "view-in-github",
        "colab_type": "text"
      },
      "source": [
        "<a href=\"https://colab.research.google.com/github/aditya248/Netflix-Exploratory-Data-Analysis/blob/main/BA775_TeamProject_B2T8.ipynb\" target=\"_parent\"><img src=\"https://colab.research.google.com/assets/colab-badge.svg\" alt=\"Open In Colab\"/></a>"
      ]
    },
    {
      "cell_type": "markdown",
      "metadata": {
        "id": "J7msiPQBeBuC"
      },
      "source": [
        "#BA775 - Team Project - Team 8\n",
        "##*Project Proposal*\n",
        "\n",
        "###**Summary Research for Netflix on it’s library**\n",
        "\n",
        "Our mission is to help Netflix summarize the details of their movie and TV show library to help them see trends on how their library has changed. We will also summarize Netflix materials based on popular genres and actors to compare with highest earning  and popular entertainment types so Netflix can maximize their user amount. \n",
        "\n",
        "Although not publicly avaliable, Netflix should use these summaries compared with the veiwership distrubtion in their library to ensure where their focus of content is (largest amounts) align with where their viewers are spending the most time watching those Movies and TV Shows.\n",
        "\n",
        "**Source:**\n",
        "https://www.kaggle.com/shivamb/netflix-sh\n",
        "\n",
        "**Original Source:**\n",
        "https://flixable.com/\n"
      ]
    },
    {
      "cell_type": "code",
      "metadata": {
        "id": "JzyeWz2D_rI5"
      },
      "source": [
        "from google.colab import auth\n",
        "auth.authenticate_user()"
      ],
      "execution_count": null,
      "outputs": []
    },
    {
      "cell_type": "markdown",
      "metadata": {
        "id": "pMU9k7ng_p-g"
      },
      "source": [
        "##**Part 1 -** Overview of Netflix Library\n",
        "###This Section will provide  summary to Netflix of their  Library in order to understand the makeup.\n"
      ]
    },
    {
      "cell_type": "markdown",
      "metadata": {
        "id": "1asPL8a9w-vY"
      },
      "source": [
        "**1. This Query will explore a count of the the Netflix library as well as content divide between movies and TV Shows** "
      ]
    },
    {
      "cell_type": "code",
      "metadata": {
        "id": "vY5GuiOo_CfZ",
        "colab": {
          "base_uri": "https://localhost:8080/",
          "height": 80
        },
        "outputId": "246cfa4e-babe-4dbb-c214-29710a8c8d7a"
      },
      "source": [
        "%%bigquery --project=ba775-team8-b2\n",
        "SELECT \n",
        "    \n",
        "    COUNT(CASE WHEN type = 'Movie'\n",
        "    THEN show_id END) AS movie_totals,\n",
        "    COUNT(CASE WHEN type = 'TV Show' \n",
        "    THEN show_id END) AS tv_show_totals,\n",
        "    COUNT(type) as total_library\n",
        " FROM `ba775-team8-b2.Netflix.netflix_titles` "
      ],
      "execution_count": null,
      "outputs": [
        {
          "output_type": "execute_result",
          "data": {
            "text/html": [
              "<div>\n",
              "<style scoped>\n",
              "    .dataframe tbody tr th:only-of-type {\n",
              "        vertical-align: middle;\n",
              "    }\n",
              "\n",
              "    .dataframe tbody tr th {\n",
              "        vertical-align: top;\n",
              "    }\n",
              "\n",
              "    .dataframe thead th {\n",
              "        text-align: right;\n",
              "    }\n",
              "</style>\n",
              "<table border=\"1\" class=\"dataframe\">\n",
              "  <thead>\n",
              "    <tr style=\"text-align: right;\">\n",
              "      <th></th>\n",
              "      <th>movie_totals</th>\n",
              "      <th>tv_show_totals</th>\n",
              "      <th>total_library</th>\n",
              "    </tr>\n",
              "  </thead>\n",
              "  <tbody>\n",
              "    <tr>\n",
              "      <th>0</th>\n",
              "      <td>5377</td>\n",
              "      <td>2410</td>\n",
              "      <td>7787</td>\n",
              "    </tr>\n",
              "  </tbody>\n",
              "</table>\n",
              "</div>"
            ],
            "text/plain": [
              "   movie_totals  tv_show_totals  total_library\n",
              "0          5377            2410           7787"
            ]
          },
          "metadata": {},
          "execution_count": 3
        }
      ]
    },
    {
      "cell_type": "markdown",
      "metadata": {
        "id": "1SBxE4fPxjx4"
      },
      "source": [
        "Of the almost 8000s unique videos on next more than 60% are movies. This shows netflix has favored movies over TV shows or they need more categories to breakdown what content types they have. "
      ]
    },
    {
      "cell_type": "markdown",
      "metadata": {
        "id": "1N6oRmNTyWSA"
      },
      "source": [
        "**2. This query will summarize the dinstict type of ratings that exist  on Netflix  and breakdown the amount of content for each rating type on netflix.**"
      ]
    },
    {
      "cell_type": "code",
      "metadata": {
        "colab": {
          "base_uri": "https://localhost:8080/",
          "height": 204
        },
        "id": "Ct_bDeEiIeFI",
        "outputId": "a3b8c329-a3bd-41dd-d140-46022874dc01"
      },
      "source": [
        "%%bigquery --project=ba775-team8-b2\n",
        "SELECT rating as Type_Of_Rating, COUNT(*) as Total_Content \n",
        "FROM `ba775-team8-b2.Netflix.netflix_titles` \n",
        "WHERE rating IS NOT NULL\n",
        "GROUP BY rating\n",
        "ORDER BY Total_Content DESC\n",
        "Limit 5\n",
        "#Rating for both TV and movies"
      ],
      "execution_count": 13,
      "outputs": [
        {
          "output_type": "execute_result",
          "data": {
            "text/html": [
              "<div>\n",
              "<style scoped>\n",
              "    .dataframe tbody tr th:only-of-type {\n",
              "        vertical-align: middle;\n",
              "    }\n",
              "\n",
              "    .dataframe tbody tr th {\n",
              "        vertical-align: top;\n",
              "    }\n",
              "\n",
              "    .dataframe thead th {\n",
              "        text-align: right;\n",
              "    }\n",
              "</style>\n",
              "<table border=\"1\" class=\"dataframe\">\n",
              "  <thead>\n",
              "    <tr style=\"text-align: right;\">\n",
              "      <th></th>\n",
              "      <th>Type_Of_Rating</th>\n",
              "      <th>Total_Content</th>\n",
              "    </tr>\n",
              "  </thead>\n",
              "  <tbody>\n",
              "    <tr>\n",
              "      <th>0</th>\n",
              "      <td>TV-MA</td>\n",
              "      <td>2863</td>\n",
              "    </tr>\n",
              "    <tr>\n",
              "      <th>1</th>\n",
              "      <td>TV-14</td>\n",
              "      <td>1931</td>\n",
              "    </tr>\n",
              "    <tr>\n",
              "      <th>2</th>\n",
              "      <td>TV-PG</td>\n",
              "      <td>806</td>\n",
              "    </tr>\n",
              "    <tr>\n",
              "      <th>3</th>\n",
              "      <td>R</td>\n",
              "      <td>665</td>\n",
              "    </tr>\n",
              "    <tr>\n",
              "      <th>4</th>\n",
              "      <td>PG-13</td>\n",
              "      <td>386</td>\n",
              "    </tr>\n",
              "  </tbody>\n",
              "</table>\n",
              "</div>"
            ],
            "text/plain": [
              "  Type_Of_Rating  Total_Content\n",
              "0          TV-MA           2863\n",
              "1          TV-14           1931\n",
              "2          TV-PG            806\n",
              "3              R            665\n",
              "4          PG-13            386"
            ]
          },
          "metadata": {},
          "execution_count": 13
        }
      ]
    },
    {
      "cell_type": "markdown",
      "metadata": {
        "id": "yrg5Kf36yg-W"
      },
      "source": [
        "Netlfix should compare their viewer count for shows in each rating type to compare if their viewers tend to perfer where their library is currently focused on ratings geared toward teenagres and adults. "
      ]
    },
    {
      "cell_type": "markdown",
      "metadata": {
        "id": "I6YtybeC-Dwc"
      },
      "source": [
        "**3. This query will investigate which years do the most content that is added to the netflix library are released**"
      ]
    },
    {
      "cell_type": "code",
      "metadata": {
        "colab": {
          "base_uri": "https://localhost:8080/",
          "height": 204
        },
        "id": "6hFE9WO4IXNi",
        "outputId": "6855c365-cd65-4a4c-dd72-b4bc0055a00e"
      },
      "source": [
        "%%bigquery --project=ba775-team8-b2\n",
        "SELECT release_year, COUNT(release_year) AS movie_added FROM `ba775-team8-b2.Netflix.netflix_titles`\n",
        "GROUP BY release_year\n",
        "ORDER BY movie_added DESC\n",
        "Limit 5"
      ],
      "execution_count": 14,
      "outputs": [
        {
          "output_type": "execute_result",
          "data": {
            "text/html": [
              "<div>\n",
              "<style scoped>\n",
              "    .dataframe tbody tr th:only-of-type {\n",
              "        vertical-align: middle;\n",
              "    }\n",
              "\n",
              "    .dataframe tbody tr th {\n",
              "        vertical-align: top;\n",
              "    }\n",
              "\n",
              "    .dataframe thead th {\n",
              "        text-align: right;\n",
              "    }\n",
              "</style>\n",
              "<table border=\"1\" class=\"dataframe\">\n",
              "  <thead>\n",
              "    <tr style=\"text-align: right;\">\n",
              "      <th></th>\n",
              "      <th>release_year</th>\n",
              "      <th>movie_added</th>\n",
              "    </tr>\n",
              "  </thead>\n",
              "  <tbody>\n",
              "    <tr>\n",
              "      <th>0</th>\n",
              "      <td>2018</td>\n",
              "      <td>1121</td>\n",
              "    </tr>\n",
              "    <tr>\n",
              "      <th>1</th>\n",
              "      <td>2017</td>\n",
              "      <td>1012</td>\n",
              "    </tr>\n",
              "    <tr>\n",
              "      <th>2</th>\n",
              "      <td>2019</td>\n",
              "      <td>996</td>\n",
              "    </tr>\n",
              "    <tr>\n",
              "      <th>3</th>\n",
              "      <td>2016</td>\n",
              "      <td>882</td>\n",
              "    </tr>\n",
              "    <tr>\n",
              "      <th>4</th>\n",
              "      <td>2020</td>\n",
              "      <td>868</td>\n",
              "    </tr>\n",
              "  </tbody>\n",
              "</table>\n",
              "</div>"
            ],
            "text/plain": [
              "   release_year  movie_added\n",
              "0          2018         1121\n",
              "1          2017         1012\n",
              "2          2019          996\n",
              "3          2016          882\n",
              "4          2020          868"
            ]
          },
          "metadata": {},
          "execution_count": 14
        }
      ]
    },
    {
      "cell_type": "markdown",
      "metadata": {
        "id": "wEAtMzML0o-h"
      },
      "source": [
        "Focusing on the vast amount of content in recent years is good for young viewers, but could begin to focus on earlier years to attract a different subscriber type. "
      ]
    },
    {
      "cell_type": "markdown",
      "metadata": {
        "id": "1jsy9UfJ07Oe"
      },
      "source": [
        "**4. This query will breakdown for netflix which directors that are most used in their library.**"
      ]
    },
    {
      "cell_type": "code",
      "metadata": {
        "colab": {
          "base_uri": "https://localhost:8080/",
          "height": 204
        },
        "id": "_Kv6PLuUKkGR",
        "outputId": "06f85fc1-bd81-4dd2-c231-3fdcd22edf7f"
      },
      "source": [
        "%%bigquery --project=ba775-team8-b2\n",
        "SELECT director, COUNT(director) AS time_appeared\n",
        "FROM `ba775-team8-b2.Netflix.netflix_titles`\n",
        "WHERE director IS NOT NULL\n",
        "GROUP BY 1\n",
        "ORDER BY 2 DESC\n",
        "Limit 5"
      ],
      "execution_count": 15,
      "outputs": [
        {
          "output_type": "execute_result",
          "data": {
            "text/html": [
              "<div>\n",
              "<style scoped>\n",
              "    .dataframe tbody tr th:only-of-type {\n",
              "        vertical-align: middle;\n",
              "    }\n",
              "\n",
              "    .dataframe tbody tr th {\n",
              "        vertical-align: top;\n",
              "    }\n",
              "\n",
              "    .dataframe thead th {\n",
              "        text-align: right;\n",
              "    }\n",
              "</style>\n",
              "<table border=\"1\" class=\"dataframe\">\n",
              "  <thead>\n",
              "    <tr style=\"text-align: right;\">\n",
              "      <th></th>\n",
              "      <th>director</th>\n",
              "      <th>time_appeared</th>\n",
              "    </tr>\n",
              "  </thead>\n",
              "  <tbody>\n",
              "    <tr>\n",
              "      <th>0</th>\n",
              "      <td>Raúl Campos, Jan Suter</td>\n",
              "      <td>18</td>\n",
              "    </tr>\n",
              "    <tr>\n",
              "      <th>1</th>\n",
              "      <td>Marcus Raboy</td>\n",
              "      <td>16</td>\n",
              "    </tr>\n",
              "    <tr>\n",
              "      <th>2</th>\n",
              "      <td>Jay Karas</td>\n",
              "      <td>14</td>\n",
              "    </tr>\n",
              "    <tr>\n",
              "      <th>3</th>\n",
              "      <td>Cathy Garcia-Molina</td>\n",
              "      <td>13</td>\n",
              "    </tr>\n",
              "    <tr>\n",
              "      <th>4</th>\n",
              "      <td>Jay Chapman</td>\n",
              "      <td>12</td>\n",
              "    </tr>\n",
              "  </tbody>\n",
              "</table>\n",
              "</div>"
            ],
            "text/plain": [
              "                 director  time_appeared\n",
              "0  Raúl Campos, Jan Suter             18\n",
              "1            Marcus Raboy             16\n",
              "2               Jay Karas             14\n",
              "3     Cathy Garcia-Molina             13\n",
              "4             Jay Chapman             12"
            ]
          },
          "metadata": {},
          "execution_count": 15
        }
      ]
    },
    {
      "cell_type": "markdown",
      "metadata": {
        "id": "Z1E_TlSc-f-7"
      },
      "source": [
        "Having content from around 400 directors, netflix does not rely on too much. Their top uesed directly Jan suter Raul Campos only has about 2% of the library from his work. "
      ]
    },
    {
      "cell_type": "markdown",
      "metadata": {
        "id": "cbiqmnIL-l1I"
      },
      "source": [
        "**5. This query will breakdown which countries Netflix rely on the most for production of content.**"
      ]
    },
    {
      "cell_type": "code",
      "metadata": {
        "colab": {
          "base_uri": "https://localhost:8080/",
          "height": 204
        },
        "id": "O2O0M1LYVg5w",
        "outputId": "eb9b51a8-f9b8-437e-ac25-4c679741725a"
      },
      "source": [
        "%%bigquery --project=ba775-team8-b2\n",
        "SELECT \n",
        "    country,\n",
        "    COUNT(CASE WHEN type = 'Movie'\n",
        "    THEN show_id END) AS movie_totals,\n",
        "    COUNT(CASE WHEN type = 'TV Show' \n",
        "    THEN show_id END) AS tv_show_totals,\n",
        "    COUNT(type) as total_content_prodcution\n",
        " FROM `ba775-team8-b2.Netflix.netflix_titles` \n",
        " GROUP BY country\n",
        " ORDER BY total_content_prodcution DESC\n",
        " LIMIT 5;"
      ],
      "execution_count": 16,
      "outputs": [
        {
          "output_type": "execute_result",
          "data": {
            "text/html": [
              "<div>\n",
              "<style scoped>\n",
              "    .dataframe tbody tr th:only-of-type {\n",
              "        vertical-align: middle;\n",
              "    }\n",
              "\n",
              "    .dataframe tbody tr th {\n",
              "        vertical-align: top;\n",
              "    }\n",
              "\n",
              "    .dataframe thead th {\n",
              "        text-align: right;\n",
              "    }\n",
              "</style>\n",
              "<table border=\"1\" class=\"dataframe\">\n",
              "  <thead>\n",
              "    <tr style=\"text-align: right;\">\n",
              "      <th></th>\n",
              "      <th>country</th>\n",
              "      <th>movie_totals</th>\n",
              "      <th>tv_show_totals</th>\n",
              "      <th>total_content_prodcution</th>\n",
              "    </tr>\n",
              "  </thead>\n",
              "  <tbody>\n",
              "    <tr>\n",
              "      <th>0</th>\n",
              "      <td>United States</td>\n",
              "      <td>1850</td>\n",
              "      <td>705</td>\n",
              "      <td>2555</td>\n",
              "    </tr>\n",
              "    <tr>\n",
              "      <th>1</th>\n",
              "      <td>India</td>\n",
              "      <td>852</td>\n",
              "      <td>71</td>\n",
              "      <td>923</td>\n",
              "    </tr>\n",
              "    <tr>\n",
              "      <th>2</th>\n",
              "      <td>None</td>\n",
              "      <td>230</td>\n",
              "      <td>277</td>\n",
              "      <td>507</td>\n",
              "    </tr>\n",
              "    <tr>\n",
              "      <th>3</th>\n",
              "      <td>United Kingdom</td>\n",
              "      <td>193</td>\n",
              "      <td>204</td>\n",
              "      <td>397</td>\n",
              "    </tr>\n",
              "    <tr>\n",
              "      <th>4</th>\n",
              "      <td>Japan</td>\n",
              "      <td>69</td>\n",
              "      <td>157</td>\n",
              "      <td>226</td>\n",
              "    </tr>\n",
              "  </tbody>\n",
              "</table>\n",
              "</div>"
            ],
            "text/plain": [
              "          country  movie_totals  tv_show_totals  total_content_prodcution\n",
              "0   United States          1850             705                      2555\n",
              "1           India           852              71                       923\n",
              "2            None           230             277                       507\n",
              "3  United Kingdom           193             204                       397\n",
              "4           Japan            69             157                       226"
            ]
          },
          "metadata": {},
          "execution_count": 16
        }
      ]
    },
    {
      "cell_type": "markdown",
      "metadata": {
        "id": "VhxfLCqHT991"
      },
      "source": [
        "The overhwhelming majority coming from the United States followed by India and the United Kingdom. The none catgeory should be organized to under where these 500 movies and TV shows are being made to accuratley understand what countries are msot utilized. "
      ]
    },
    {
      "cell_type": "markdown",
      "metadata": {
        "id": "gF_G-DONAaXT"
      },
      "source": [
        "##**Part 2 -** Netflix Movies\n",
        "###This section will futher investigate the Movie library make up of Netflix. Combinig the data with the IMDB sites information on ratings and other popularity metrics will help Netflix know which movies to focus ono keeping and promoting on their main page"
      ]
    },
    {
      "cell_type": "markdown",
      "metadata": {
        "id": "LHsBBiqa_POU"
      },
      "source": [
        "**6. The query will look at the average duration of movies.**"
      ]
    },
    {
      "cell_type": "code",
      "metadata": {
        "colab": {
          "base_uri": "https://localhost:8080/",
          "height": 80
        },
        "id": "-A5MZgnG_Fvt",
        "outputId": "1b9bdc33-8234-4ba6-bf4a-1cfe94eea7e2"
      },
      "source": [
        "%%bigquery --project=ba775-team8-b2\n",
        "SELECT type,AVG(Updated_duration) AS avg_durationMovie FROM \n",
        "(SELECT type, CAST(REPLACE(duration,'min','') AS INT64) AS Updated_duration\n",
        "FROM `ba775-team8-b2.Netflix.netflix_titles`\n",
        "WHERE type='Movie')\n",
        "GROUP BY type"
      ],
      "execution_count": null,
      "outputs": [
        {
          "output_type": "execute_result",
          "data": {
            "text/html": [
              "<div>\n",
              "<style scoped>\n",
              "    .dataframe tbody tr th:only-of-type {\n",
              "        vertical-align: middle;\n",
              "    }\n",
              "\n",
              "    .dataframe tbody tr th {\n",
              "        vertical-align: top;\n",
              "    }\n",
              "\n",
              "    .dataframe thead th {\n",
              "        text-align: right;\n",
              "    }\n",
              "</style>\n",
              "<table border=\"1\" class=\"dataframe\">\n",
              "  <thead>\n",
              "    <tr style=\"text-align: right;\">\n",
              "      <th></th>\n",
              "      <th>type</th>\n",
              "      <th>avg_durationMovie</th>\n",
              "    </tr>\n",
              "  </thead>\n",
              "  <tbody>\n",
              "    <tr>\n",
              "      <th>0</th>\n",
              "      <td>Movie</td>\n",
              "      <td>99.307978</td>\n",
              "    </tr>\n",
              "  </tbody>\n",
              "</table>\n",
              "</div>"
            ],
            "text/plain": [
              "    type  avg_durationMovie\n",
              "0  Movie          99.307978"
            ]
          },
          "metadata": {},
          "execution_count": 3
        }
      ]
    },
    {
      "cell_type": "markdown",
      "metadata": {
        "id": "LPM9c67SUlfJ"
      },
      "source": [
        "**7. This query will investiage the highest rated movies on netflix page by using the popular IMDB ratings system**"
      ]
    },
    {
      "cell_type": "code",
      "metadata": {
        "id": "NXPRIzuvfmM6",
        "colab": {
          "base_uri": "https://localhost:8080/",
          "height": 359
        },
        "outputId": "f6f5e33f-3dcc-42e8-ea1b-12a7fa047945"
      },
      "source": [
        "%%bigquery --project=ba775-team8-b2\n",
        "SELECT n.title, n.director, n.country, n.date_added, r.Rating\n",
        "FROM `ba775-team8-b2.Netflix.netflix_titles` as n\n",
        "INNER JOIN `ba775-team8-b2.Netflix.IMBd_movies_ratings` as r\n",
        "   ON lower(n.title) = lower(r.title)\n",
        "ORDER BY r.Rating DESC\n",
        "LIMIT 10"
      ],
      "execution_count": 19,
      "outputs": [
        {
          "output_type": "execute_result",
          "data": {
            "text/html": [
              "<div>\n",
              "<style scoped>\n",
              "    .dataframe tbody tr th:only-of-type {\n",
              "        vertical-align: middle;\n",
              "    }\n",
              "\n",
              "    .dataframe tbody tr th {\n",
              "        vertical-align: top;\n",
              "    }\n",
              "\n",
              "    .dataframe thead th {\n",
              "        text-align: right;\n",
              "    }\n",
              "</style>\n",
              "<table border=\"1\" class=\"dataframe\">\n",
              "  <thead>\n",
              "    <tr style=\"text-align: right;\">\n",
              "      <th></th>\n",
              "      <th>title</th>\n",
              "      <th>director</th>\n",
              "      <th>country</th>\n",
              "      <th>date_added</th>\n",
              "      <th>Rating</th>\n",
              "    </tr>\n",
              "  </thead>\n",
              "  <tbody>\n",
              "    <tr>\n",
              "      <th>0</th>\n",
              "      <td>Inception</td>\n",
              "      <td>Christopher Nolan</td>\n",
              "      <td>United States, United Kingdom</td>\n",
              "      <td>January 1, 2020</td>\n",
              "      <td>8.8</td>\n",
              "    </tr>\n",
              "    <tr>\n",
              "      <th>1</th>\n",
              "      <td>Dangal</td>\n",
              "      <td>Nitesh Tiwari</td>\n",
              "      <td>India</td>\n",
              "      <td>June 21, 2017</td>\n",
              "      <td>8.8</td>\n",
              "    </tr>\n",
              "    <tr>\n",
              "      <th>2</th>\n",
              "      <td>The Intouchables</td>\n",
              "      <td>Olivier Nakache, Éric Toledano</td>\n",
              "      <td>France</td>\n",
              "      <td>January 11, 2021</td>\n",
              "      <td>8.6</td>\n",
              "    </tr>\n",
              "    <tr>\n",
              "      <th>3</th>\n",
              "      <td>Taare Zameen Par</td>\n",
              "      <td>Aamir Khan</td>\n",
              "      <td>India</td>\n",
              "      <td>January 10, 2021</td>\n",
              "      <td>8.5</td>\n",
              "    </tr>\n",
              "    <tr>\n",
              "      <th>4</th>\n",
              "      <td>The Departed</td>\n",
              "      <td>Martin Scorsese</td>\n",
              "      <td>United States, Hong Kong</td>\n",
              "      <td>January 1, 2021</td>\n",
              "      <td>8.5</td>\n",
              "    </tr>\n",
              "    <tr>\n",
              "      <th>5</th>\n",
              "      <td>The Lives of Others</td>\n",
              "      <td>Florian Henckel von Donnersmarck</td>\n",
              "      <td>Germany</td>\n",
              "      <td>March 15, 2019</td>\n",
              "      <td>8.5</td>\n",
              "    </tr>\n",
              "    <tr>\n",
              "      <th>6</th>\n",
              "      <td>3 Idiots</td>\n",
              "      <td>Rajkumar Hirani</td>\n",
              "      <td>India</td>\n",
              "      <td>August 1, 2019</td>\n",
              "      <td>8.4</td>\n",
              "    </tr>\n",
              "    <tr>\n",
              "      <th>7</th>\n",
              "      <td>Django Unchained</td>\n",
              "      <td>Quentin Tarantino</td>\n",
              "      <td>United States</td>\n",
              "      <td>April 25, 2020</td>\n",
              "      <td>8.4</td>\n",
              "    </tr>\n",
              "    <tr>\n",
              "      <th>8</th>\n",
              "      <td>Inglourious Basterds</td>\n",
              "      <td>Quentin Tarantino</td>\n",
              "      <td>Germany, United States</td>\n",
              "      <td>July 22, 2019</td>\n",
              "      <td>8.3</td>\n",
              "    </tr>\n",
              "    <tr>\n",
              "      <th>9</th>\n",
              "      <td>Paint It Black</td>\n",
              "      <td>Amber Tamblyn</td>\n",
              "      <td>United States</td>\n",
              "      <td>February 1, 2018</td>\n",
              "      <td>8.3</td>\n",
              "    </tr>\n",
              "  </tbody>\n",
              "</table>\n",
              "</div>"
            ],
            "text/plain": [
              "                  title  ... Rating\n",
              "0             Inception  ...    8.8\n",
              "1                Dangal  ...    8.8\n",
              "2      The Intouchables  ...    8.6\n",
              "3      Taare Zameen Par  ...    8.5\n",
              "4          The Departed  ...    8.5\n",
              "5   The Lives of Others  ...    8.5\n",
              "6              3 Idiots  ...    8.4\n",
              "7      Django Unchained  ...    8.4\n",
              "8  Inglourious Basterds  ...    8.3\n",
              "9        Paint It Black  ...    8.3\n",
              "\n",
              "[10 rows x 5 columns]"
            ]
          },
          "metadata": {},
          "execution_count": 19
        }
      ]
    },
    {
      "cell_type": "markdown",
      "metadata": {
        "id": "7lnDZB83UvHv"
      },
      "source": [
        "Netflix should ensure these movies stay on their site for as much time as possilbe and regulary, promote and ensure users are aware that these movies exist in their library. "
      ]
    },
    {
      "cell_type": "markdown",
      "metadata": {
        "id": "hESlcsAb3-x4"
      },
      "source": [
        "**8.This query will again join with the IMDB data set to detial the top grossing box office movies that Netflix has in their library**"
      ]
    },
    {
      "cell_type": "code",
      "metadata": {
        "id": "tQ4R_np-4VIn",
        "colab": {
          "base_uri": "https://localhost:8080/",
          "height": 204
        },
        "outputId": "90125eb5-e091-4aa9-95b4-73c43ba1d321"
      },
      "source": [
        "%%bigquery --project=ba775-team8-b2\n",
        "SELECT n.title, n.director, n.country, n.date_added, r.Rating, r.Revenue__Millions_\n",
        "FROM `ba775-team8-b2.Netflix.netflix_titles` as n\n",
        "INNER JOIN `ba775-team8-b2.Netflix.IMBd_movies_ratings` as r\n",
        "   ON lower(n.title) = lower(r.title)\n",
        "ORDER BY r.Revenue__Millions_ DESC\n",
        "Limit 5"
      ],
      "execution_count": 20,
      "outputs": [
        {
          "output_type": "execute_result",
          "data": {
            "text/html": [
              "<div>\n",
              "<style scoped>\n",
              "    .dataframe tbody tr th:only-of-type {\n",
              "        vertical-align: middle;\n",
              "    }\n",
              "\n",
              "    .dataframe tbody tr th {\n",
              "        vertical-align: top;\n",
              "    }\n",
              "\n",
              "    .dataframe thead th {\n",
              "        text-align: right;\n",
              "    }\n",
              "</style>\n",
              "<table border=\"1\" class=\"dataframe\">\n",
              "  <thead>\n",
              "    <tr style=\"text-align: right;\">\n",
              "      <th></th>\n",
              "      <th>title</th>\n",
              "      <th>director</th>\n",
              "      <th>country</th>\n",
              "      <th>date_added</th>\n",
              "      <th>Rating</th>\n",
              "      <th>Revenue__Millions_</th>\n",
              "    </tr>\n",
              "  </thead>\n",
              "  <tbody>\n",
              "    <tr>\n",
              "      <th>0</th>\n",
              "      <td>The Jungle Book</td>\n",
              "      <td>None</td>\n",
              "      <td>India, Germany, France</td>\n",
              "      <td>May 11, 2019</td>\n",
              "      <td>7.5</td>\n",
              "      <td>364.00</td>\n",
              "    </tr>\n",
              "    <tr>\n",
              "      <th>1</th>\n",
              "      <td>Spider-Man 3</td>\n",
              "      <td>Sam Raimi</td>\n",
              "      <td>United States</td>\n",
              "      <td>November 1, 2019</td>\n",
              "      <td>6.2</td>\n",
              "      <td>336.53</td>\n",
              "    </tr>\n",
              "    <tr>\n",
              "      <th>2</th>\n",
              "      <td>Indiana Jones and the Kingdom of the Crystal S...</td>\n",
              "      <td>Steven Spielberg</td>\n",
              "      <td>United States</td>\n",
              "      <td>January 1, 2019</td>\n",
              "      <td>6.2</td>\n",
              "      <td>317.01</td>\n",
              "    </tr>\n",
              "    <tr>\n",
              "      <th>3</th>\n",
              "      <td>Inception</td>\n",
              "      <td>Christopher Nolan</td>\n",
              "      <td>United States, United Kingdom</td>\n",
              "      <td>January 1, 2020</td>\n",
              "      <td>8.8</td>\n",
              "      <td>292.57</td>\n",
              "    </tr>\n",
              "    <tr>\n",
              "      <th>4</th>\n",
              "      <td>Star Trek</td>\n",
              "      <td>None</td>\n",
              "      <td>United States</td>\n",
              "      <td>October 1, 2017</td>\n",
              "      <td>8.0</td>\n",
              "      <td>257.70</td>\n",
              "    </tr>\n",
              "  </tbody>\n",
              "</table>\n",
              "</div>"
            ],
            "text/plain": [
              "                                               title  ... Revenue__Millions_\n",
              "0                                    The Jungle Book  ...             364.00\n",
              "1                                       Spider-Man 3  ...             336.53\n",
              "2  Indiana Jones and the Kingdom of the Crystal S...  ...             317.01\n",
              "3                                          Inception  ...             292.57\n",
              "4                                          Star Trek  ...             257.70\n",
              "\n",
              "[5 rows x 6 columns]"
            ]
          },
          "metadata": {},
          "execution_count": 20
        }
      ]
    },
    {
      "cell_type": "markdown",
      "metadata": {
        "id": "kh7UUz02lXfo"
      },
      "source": [
        "Movies that were extremely successfull like The Jungle Book and Spiderman 3 should be prioritized on the main page and to keep in the library. Additionally, netflix can study the types of moves that were successfull in order to narrow focus on what types of content to continue to add."
      ]
    },
    {
      "cell_type": "markdown",
      "metadata": {
        "id": "Y4JUxOrslp69"
      },
      "source": [
        "**9. This query will summarize the duration range of movies and the count of moveis that falls in each range.**"
      ]
    },
    {
      "cell_type": "code",
      "metadata": {
        "id": "5ueckb_zMPzE",
        "colab": {
          "base_uri": "https://localhost:8080/",
          "height": 235
        },
        "outputId": "c729c27d-b101-4eb6-b23e-0d27eb3740a1"
      },
      "source": [
        "## Distribution of duration for Movies -Hanyu\n",
        "%%bigquery --project=ba775-team8-b2\n",
        "SELECT duration_range, COUNT(*) AS num_movies FROM \n",
        "(\n",
        "SELECT CASE \n",
        "WHEN CAST(REPLACE(duration,'min','') AS INT64) <= 40 THEN '0 - 40'\n",
        "WHEN CAST(REPLACE(duration,'min','') AS INT64) BETWEEN 41 AND 80 THEN '41 - 80'\n",
        "WHEN CAST(REPLACE(duration,'min','') AS INT64) BETWEEN 81 AND 120 THEN '81 - 120'\n",
        "WHEN CAST(REPLACE(duration,'min','') AS INT64) BETWEEN 121 AND 160 THEN '121 - 160'\n",
        "WHEN CAST(REPLACE(duration,'min','') AS INT64) BETWEEN 161 AND 200 THEN '161 - 200'\n",
        "ELSE '201 +' END AS duration_range\n",
        "FROM `ba775-team8-b2.Netflix.netflix_titles`\n",
        "WHERE type='Movie'\n",
        ")\n",
        "GROUP BY duration_range\n",
        "ORDER BY CAST(SPLIT(duration_range,' ')[OFFSET(0)] as INT64)"
      ],
      "execution_count": 21,
      "outputs": [
        {
          "output_type": "execute_result",
          "data": {
            "text/html": [
              "<div>\n",
              "<style scoped>\n",
              "    .dataframe tbody tr th:only-of-type {\n",
              "        vertical-align: middle;\n",
              "    }\n",
              "\n",
              "    .dataframe tbody tr th {\n",
              "        vertical-align: top;\n",
              "    }\n",
              "\n",
              "    .dataframe thead th {\n",
              "        text-align: right;\n",
              "    }\n",
              "</style>\n",
              "<table border=\"1\" class=\"dataframe\">\n",
              "  <thead>\n",
              "    <tr style=\"text-align: right;\">\n",
              "      <th></th>\n",
              "      <th>duration_range</th>\n",
              "      <th>num_movies</th>\n",
              "    </tr>\n",
              "  </thead>\n",
              "  <tbody>\n",
              "    <tr>\n",
              "      <th>0</th>\n",
              "      <td>0 - 40</td>\n",
              "      <td>159</td>\n",
              "    </tr>\n",
              "    <tr>\n",
              "      <th>1</th>\n",
              "      <td>41 - 80</td>\n",
              "      <td>835</td>\n",
              "    </tr>\n",
              "    <tr>\n",
              "      <th>2</th>\n",
              "      <td>81 - 120</td>\n",
              "      <td>3372</td>\n",
              "    </tr>\n",
              "    <tr>\n",
              "      <th>3</th>\n",
              "      <td>121 - 160</td>\n",
              "      <td>874</td>\n",
              "    </tr>\n",
              "    <tr>\n",
              "      <th>4</th>\n",
              "      <td>161 - 200</td>\n",
              "      <td>122</td>\n",
              "    </tr>\n",
              "    <tr>\n",
              "      <th>5</th>\n",
              "      <td>201 +</td>\n",
              "      <td>15</td>\n",
              "    </tr>\n",
              "  </tbody>\n",
              "</table>\n",
              "</div>"
            ],
            "text/plain": [
              "  duration_range  num_movies\n",
              "0         0 - 40         159\n",
              "1        41 - 80         835\n",
              "2       81 - 120        3372\n",
              "3      121 - 160         874\n",
              "4      161 - 200         122\n",
              "5          201 +          15"
            ]
          },
          "metadata": {},
          "execution_count": 21
        }
      ]
    },
    {
      "cell_type": "markdown",
      "metadata": {
        "id": "ePAIB9Fyl2ql"
      },
      "source": [
        "Netflix can see that 1.5-2 hour movie duration contains  the vast majority of their movies library. "
      ]
    },
    {
      "cell_type": "markdown",
      "metadata": {
        "id": "ILjYB2qNAbcg"
      },
      "source": [
        "##**Part 3 -** Netflix TV Shows\n",
        "###This section will futher investigate the Tv Show libaray"
      ]
    },
    {
      "cell_type": "markdown",
      "metadata": {
        "id": "3G9onkUN_3YS"
      },
      "source": [
        "**10. This query will look at average season of TV-shows.**"
      ]
    },
    {
      "cell_type": "code",
      "metadata": {
        "colab": {
          "base_uri": "https://localhost:8080/",
          "height": 80
        },
        "id": "9-IkDKjfABPp",
        "outputId": "cad188ed-2052-4029-8aa8-b427301b099f"
      },
      "source": [
        "%%bigquery --project=ba775-team8-b2\n",
        "SELECT type, CAST(ROUND(AVG(Updated_duration)) AS INT64) AS avg_TV_Show_seasons FROM \n",
        "(SELECT type, CAST(REPLACE(REPLACE(duration,'s',''),'Seaon','') AS INT64) AS Updated_duration\n",
        "FROM `ba775-team8-b2.Netflix.netflix_titles`\n",
        "WHERE type='TV Show')\n",
        "GROUP BY type"
      ],
      "execution_count": null,
      "outputs": [
        {
          "output_type": "execute_result",
          "data": {
            "text/html": [
              "<div>\n",
              "<style scoped>\n",
              "    .dataframe tbody tr th:only-of-type {\n",
              "        vertical-align: middle;\n",
              "    }\n",
              "\n",
              "    .dataframe tbody tr th {\n",
              "        vertical-align: top;\n",
              "    }\n",
              "\n",
              "    .dataframe thead th {\n",
              "        text-align: right;\n",
              "    }\n",
              "</style>\n",
              "<table border=\"1\" class=\"dataframe\">\n",
              "  <thead>\n",
              "    <tr style=\"text-align: right;\">\n",
              "      <th></th>\n",
              "      <th>type</th>\n",
              "      <th>avg_TV_Show_seasons</th>\n",
              "    </tr>\n",
              "  </thead>\n",
              "  <tbody>\n",
              "    <tr>\n",
              "      <th>0</th>\n",
              "      <td>TV Show</td>\n",
              "      <td>2</td>\n",
              "    </tr>\n",
              "  </tbody>\n",
              "</table>\n",
              "</div>"
            ],
            "text/plain": [
              "      type  avg_TV_Show_seasons\n",
              "0  TV Show                    2"
            ]
          },
          "metadata": {},
          "execution_count": 8
        }
      ]
    },
    {
      "cell_type": "markdown",
      "metadata": {
        "id": "8wWbjFmIGmOW"
      },
      "source": [
        "**11/12. The next  query will find what is the longest running Tv Show and its  length.**\n"
      ]
    },
    {
      "cell_type": "code",
      "metadata": {
        "colab": {
          "base_uri": "https://localhost:8080/",
          "height": 80
        },
        "id": "qWpU1EzvGl1I",
        "outputId": "c276392f-37e7-4320-99c7-73cbedbc8882"
      },
      "source": [
        "%%bigquery --project=ba775-team8-b2\n",
        "SELECT type,MAX(new_duration) AS MAX_TV_SHOW FROM\n",
        "(SELECT type,CAST(REPLACE(REPLACE(REPLACE(duration,'min',''),'Season',''),'s','') AS INT64) AS new_duration\n",
        "FROM `ba775-team8-b2.Netflix.netflix_titles`)\n",
        "WHERE type = 'TV Show'\n",
        "GROUP BY type"
      ],
      "execution_count": null,
      "outputs": [
        {
          "output_type": "execute_result",
          "data": {
            "text/html": [
              "<div>\n",
              "<style scoped>\n",
              "    .dataframe tbody tr th:only-of-type {\n",
              "        vertical-align: middle;\n",
              "    }\n",
              "\n",
              "    .dataframe tbody tr th {\n",
              "        vertical-align: top;\n",
              "    }\n",
              "\n",
              "    .dataframe thead th {\n",
              "        text-align: right;\n",
              "    }\n",
              "</style>\n",
              "<table border=\"1\" class=\"dataframe\">\n",
              "  <thead>\n",
              "    <tr style=\"text-align: right;\">\n",
              "      <th></th>\n",
              "      <th>type</th>\n",
              "      <th>MAX_TV_SHOW</th>\n",
              "    </tr>\n",
              "  </thead>\n",
              "  <tbody>\n",
              "    <tr>\n",
              "      <th>0</th>\n",
              "      <td>TV Show</td>\n",
              "      <td>16</td>\n",
              "    </tr>\n",
              "  </tbody>\n",
              "</table>\n",
              "</div>"
            ],
            "text/plain": [
              "      type  MAX_TV_SHOW\n",
              "0  TV Show           16"
            ]
          },
          "metadata": {},
          "execution_count": 5
        }
      ]
    },
    {
      "cell_type": "code",
      "metadata": {
        "colab": {
          "base_uri": "https://localhost:8080/",
          "height": 80
        },
        "id": "xLq44GhuAmFq",
        "outputId": "f8a89805-6fde-4fed-8151-64363602ffb8"
      },
      "source": [
        "%%bigquery --project=ba775-team8-b2\n",
        "SELECT show_id, title, type,duration FROM `ba775-team8-b2.Netflix.netflix_titles`\n",
        "WHERE type = 'TV Show'\n",
        "      AND duration LIKE '16 S%'"
      ],
      "execution_count": null,
      "outputs": [
        {
          "output_type": "execute_result",
          "data": {
            "text/html": [
              "<div>\n",
              "<style scoped>\n",
              "    .dataframe tbody tr th:only-of-type {\n",
              "        vertical-align: middle;\n",
              "    }\n",
              "\n",
              "    .dataframe tbody tr th {\n",
              "        vertical-align: top;\n",
              "    }\n",
              "\n",
              "    .dataframe thead th {\n",
              "        text-align: right;\n",
              "    }\n",
              "</style>\n",
              "<table border=\"1\" class=\"dataframe\">\n",
              "  <thead>\n",
              "    <tr style=\"text-align: right;\">\n",
              "      <th></th>\n",
              "      <th>show_id</th>\n",
              "      <th>title</th>\n",
              "      <th>type</th>\n",
              "      <th>duration</th>\n",
              "    </tr>\n",
              "  </thead>\n",
              "  <tbody>\n",
              "    <tr>\n",
              "      <th>0</th>\n",
              "      <td>s2539</td>\n",
              "      <td>Grey's Anatomy</td>\n",
              "      <td>TV Show</td>\n",
              "      <td>16 Seasons</td>\n",
              "    </tr>\n",
              "  </tbody>\n",
              "</table>\n",
              "</div>"
            ],
            "text/plain": [
              "  show_id           title     type    duration\n",
              "0   s2539  Grey's Anatomy  TV Show  16 Seasons"
            ]
          },
          "metadata": {},
          "execution_count": 9
        }
      ]
    },
    {
      "cell_type": "markdown",
      "metadata": {
        "id": "c0eaUnKFApnN"
      },
      "source": [
        "Grey's Aanatotmy spanning 16 season is the longest running show on Netflix which should help them expect any show created or added is not likely to exceed this. "
      ]
    },
    {
      "cell_type": "markdown",
      "metadata": {
        "id": "WeRtjY8Aorhi"
      },
      "source": [
        "**13. This query will isolate TV shows and breakdown the ratings by type.**"
      ]
    },
    {
      "cell_type": "code",
      "metadata": {
        "colab": {
          "base_uri": "https://localhost:8080/",
          "height": 483
        },
        "id": "wIHqrbOxo0c6",
        "outputId": "323d293c-ccfe-4a92-f5d1-e6a00ed2999b"
      },
      "source": [
        "%%bigquery --project=ba775-team8-b2\n",
        "SELECT rating, COUNT(rating) AS count_rating FROM `ba775-team8-b2.Netflix.netflix_titles`\n",
        "WHERE type='Movie' AND rating IS NOT NULL\n",
        "GROUP BY rating\n",
        "ORDER BY 2 DESC "
      ],
      "execution_count": null,
      "outputs": [
        {
          "output_type": "execute_result",
          "data": {
            "text/html": [
              "<div>\n",
              "<style scoped>\n",
              "    .dataframe tbody tr th:only-of-type {\n",
              "        vertical-align: middle;\n",
              "    }\n",
              "\n",
              "    .dataframe tbody tr th {\n",
              "        vertical-align: top;\n",
              "    }\n",
              "\n",
              "    .dataframe thead th {\n",
              "        text-align: right;\n",
              "    }\n",
              "</style>\n",
              "<table border=\"1\" class=\"dataframe\">\n",
              "  <thead>\n",
              "    <tr style=\"text-align: right;\">\n",
              "      <th></th>\n",
              "      <th>rating</th>\n",
              "      <th>count_rating</th>\n",
              "    </tr>\n",
              "  </thead>\n",
              "  <tbody>\n",
              "    <tr>\n",
              "      <th>0</th>\n",
              "      <td>TV-MA</td>\n",
              "      <td>1845</td>\n",
              "    </tr>\n",
              "    <tr>\n",
              "      <th>1</th>\n",
              "      <td>TV-14</td>\n",
              "      <td>1272</td>\n",
              "    </tr>\n",
              "    <tr>\n",
              "      <th>2</th>\n",
              "      <td>R</td>\n",
              "      <td>663</td>\n",
              "    </tr>\n",
              "    <tr>\n",
              "      <th>3</th>\n",
              "      <td>TV-PG</td>\n",
              "      <td>505</td>\n",
              "    </tr>\n",
              "    <tr>\n",
              "      <th>4</th>\n",
              "      <td>PG-13</td>\n",
              "      <td>386</td>\n",
              "    </tr>\n",
              "    <tr>\n",
              "      <th>5</th>\n",
              "      <td>PG</td>\n",
              "      <td>247</td>\n",
              "    </tr>\n",
              "    <tr>\n",
              "      <th>6</th>\n",
              "      <td>TV-Y</td>\n",
              "      <td>117</td>\n",
              "    </tr>\n",
              "    <tr>\n",
              "      <th>7</th>\n",
              "      <td>TV-G</td>\n",
              "      <td>111</td>\n",
              "    </tr>\n",
              "    <tr>\n",
              "      <th>8</th>\n",
              "      <td>TV-Y7</td>\n",
              "      <td>95</td>\n",
              "    </tr>\n",
              "    <tr>\n",
              "      <th>9</th>\n",
              "      <td>NR</td>\n",
              "      <td>79</td>\n",
              "    </tr>\n",
              "    <tr>\n",
              "      <th>10</th>\n",
              "      <td>G</td>\n",
              "      <td>39</td>\n",
              "    </tr>\n",
              "    <tr>\n",
              "      <th>11</th>\n",
              "      <td>UR</td>\n",
              "      <td>5</td>\n",
              "    </tr>\n",
              "    <tr>\n",
              "      <th>12</th>\n",
              "      <td>TV-Y7-FV</td>\n",
              "      <td>5</td>\n",
              "    </tr>\n",
              "    <tr>\n",
              "      <th>13</th>\n",
              "      <td>NC-17</td>\n",
              "      <td>3</td>\n",
              "    </tr>\n",
              "  </tbody>\n",
              "</table>\n",
              "</div>"
            ],
            "text/plain": [
              "      rating  count_rating\n",
              "0      TV-MA          1845\n",
              "1      TV-14          1272\n",
              "2          R           663\n",
              "3      TV-PG           505\n",
              "4      PG-13           386\n",
              "5         PG           247\n",
              "6       TV-Y           117\n",
              "7       TV-G           111\n",
              "8      TV-Y7            95\n",
              "9         NR            79\n",
              "10         G            39\n",
              "11        UR             5\n",
              "12  TV-Y7-FV             5\n",
              "13     NC-17             3"
            ]
          },
          "metadata": {},
          "execution_count": 9
        }
      ]
    },
    {
      "cell_type": "markdown",
      "metadata": {
        "id": "jFnqpCLao159"
      },
      "source": [
        "Just like with Movies, the mature and tv-14 content holds the majority of the TV show library. Netflix should pair this with the distribution of views by rating to ensure that this divide in catelog matches their viewers. "
      ]
    },
    {
      "cell_type": "markdown",
      "metadata": {
        "id": "Z0yXARrrFPcY"
      },
      "source": [
        "**14. In order for Netflix to understand how many season most TV shows have, This next ection will breakdown thoses statistiscs to help Netflix understand how much timer users will spend on a show**\n"
      ]
    },
    {
      "cell_type": "code",
      "metadata": {
        "id": "WyFLpW9MfnC_",
        "colab": {
          "base_uri": "https://localhost:8080/",
          "height": 452
        },
        "outputId": "a2c48796-11b4-4bf6-beb3-f1e1cac94367"
      },
      "source": [
        "%%bigquery --project=ba775-team8-b2\n",
        "SELECT duration_season, COUNT(*) AS TV_Shows FROM \n",
        "(\n",
        "SELECT CASE \n",
        "WHEN duration = '1 Season' THEN '1 Season'\n",
        "WHEN duration = '2 Seasons' Then '2 Seasons'\n",
        "WHEN duration = '3 Seasons' Then '3 Seasons'\n",
        "WHEN duration = '4 Seasons' Then '4 Seasons'\n",
        "WHEN duration = '5 Seasons' Then '5 Seasons'\n",
        "WHEN duration = '6 Seasons' Then '6 Seasons'\n",
        "WHEN duration = '7 Seasons' Then '7 Seasons'\n",
        "WHEN duration = '8 Seasons' Then '8 Seasons'\n",
        "WHEN duration = '9 Seasons' Then '9 Seasons'\n",
        "WHEN duration = '10 Seasons' Then '10 Seasons'\n",
        "WHEN duration = '11 Seasons' Then '11 Seasons'\n",
        "WHEN duration = '12 Seasons' Then '12 Seasons'\n",
        "ELSE '13 + Seasons' END AS duration_season\n",
        "FROM `ba775-team8-b2.Netflix.netflix_titles`\n",
        "WHERE type='TV Show'\n",
        ")\n",
        "GROUP BY duration_season\n",
        "ORDER BY TV_Shows DESC\n",
        " \n"
      ],
      "execution_count": 24,
      "outputs": [
        {
          "output_type": "execute_result",
          "data": {
            "text/html": [
              "<div>\n",
              "<style scoped>\n",
              "    .dataframe tbody tr th:only-of-type {\n",
              "        vertical-align: middle;\n",
              "    }\n",
              "\n",
              "    .dataframe tbody tr th {\n",
              "        vertical-align: top;\n",
              "    }\n",
              "\n",
              "    .dataframe thead th {\n",
              "        text-align: right;\n",
              "    }\n",
              "</style>\n",
              "<table border=\"1\" class=\"dataframe\">\n",
              "  <thead>\n",
              "    <tr style=\"text-align: right;\">\n",
              "      <th></th>\n",
              "      <th>duration_season</th>\n",
              "      <th>TV_Shows</th>\n",
              "    </tr>\n",
              "  </thead>\n",
              "  <tbody>\n",
              "    <tr>\n",
              "      <th>0</th>\n",
              "      <td>1 Season</td>\n",
              "      <td>1608</td>\n",
              "    </tr>\n",
              "    <tr>\n",
              "      <th>1</th>\n",
              "      <td>2 Seasons</td>\n",
              "      <td>382</td>\n",
              "    </tr>\n",
              "    <tr>\n",
              "      <th>2</th>\n",
              "      <td>3 Seasons</td>\n",
              "      <td>184</td>\n",
              "    </tr>\n",
              "    <tr>\n",
              "      <th>3</th>\n",
              "      <td>4 Seasons</td>\n",
              "      <td>87</td>\n",
              "    </tr>\n",
              "    <tr>\n",
              "      <th>4</th>\n",
              "      <td>5 Seasons</td>\n",
              "      <td>58</td>\n",
              "    </tr>\n",
              "    <tr>\n",
              "      <th>5</th>\n",
              "      <td>6 Seasons</td>\n",
              "      <td>30</td>\n",
              "    </tr>\n",
              "    <tr>\n",
              "      <th>6</th>\n",
              "      <td>7 Seasons</td>\n",
              "      <td>19</td>\n",
              "    </tr>\n",
              "    <tr>\n",
              "      <th>7</th>\n",
              "      <td>8 Seasons</td>\n",
              "      <td>18</td>\n",
              "    </tr>\n",
              "    <tr>\n",
              "      <th>8</th>\n",
              "      <td>9 Seasons</td>\n",
              "      <td>8</td>\n",
              "    </tr>\n",
              "    <tr>\n",
              "      <th>9</th>\n",
              "      <td>10 Seasons</td>\n",
              "      <td>6</td>\n",
              "    </tr>\n",
              "    <tr>\n",
              "      <th>10</th>\n",
              "      <td>13 + Seasons</td>\n",
              "      <td>5</td>\n",
              "    </tr>\n",
              "    <tr>\n",
              "      <th>11</th>\n",
              "      <td>11 Seasons</td>\n",
              "      <td>3</td>\n",
              "    </tr>\n",
              "    <tr>\n",
              "      <th>12</th>\n",
              "      <td>12 Seasons</td>\n",
              "      <td>2</td>\n",
              "    </tr>\n",
              "  </tbody>\n",
              "</table>\n",
              "</div>"
            ],
            "text/plain": [
              "   duration_season  TV_Shows\n",
              "0         1 Season      1608\n",
              "1        2 Seasons       382\n",
              "2        3 Seasons       184\n",
              "3        4 Seasons        87\n",
              "4        5 Seasons        58\n",
              "5        6 Seasons        30\n",
              "6        7 Seasons        19\n",
              "7        8 Seasons        18\n",
              "8        9 Seasons         8\n",
              "9       10 Seasons         6\n",
              "10    13 + Seasons         5\n",
              "11      11 Seasons         3\n",
              "12      12 Seasons         2"
            ]
          },
          "metadata": {},
          "execution_count": 24
        }
      ]
    },
    {
      "cell_type": "markdown",
      "metadata": {
        "id": "dZlyiffPM3p8"
      },
      "source": [
        "**15. This query will find the variance and standard deviation of TV show season**\n"
      ]
    },
    {
      "cell_type": "code",
      "metadata": {
        "colab": {
          "base_uri": "https://localhost:8080/",
          "height": 80
        },
        "id": "pAajLKh5MzTV",
        "outputId": "35b8948a-6bfd-487d-9b04-4e124345c1db"
      },
      "source": [
        "%%bigquery --project=ba775-team8-b2\n",
        "SELECT type, \n",
        "       AVG(new_duration * new_duration) - AVG(new_duration) * AVG(new_duration) AS Variance, \n",
        "       SQRT(AVG(new_duration*new_duration) - AVG(new_duration)*AVG(new_duration)) AS stdev FROM\n",
        "(SELECT type,CAST(REPLACE(REPLACE(REPLACE(duration,'min',''),'Season',''),'s','') AS INT64) AS new_duration\n",
        "FROM `ba775-team8-b2.Netflix.netflix_titles`)\n",
        "WHERE type = 'TV Show'\n",
        "GROUP BY type"
      ],
      "execution_count": null,
      "outputs": [
        {
          "output_type": "execute_result",
          "data": {
            "text/html": [
              "<div>\n",
              "<style scoped>\n",
              "    .dataframe tbody tr th:only-of-type {\n",
              "        vertical-align: middle;\n",
              "    }\n",
              "\n",
              "    .dataframe tbody tr th {\n",
              "        vertical-align: top;\n",
              "    }\n",
              "\n",
              "    .dataframe thead th {\n",
              "        text-align: right;\n",
              "    }\n",
              "</style>\n",
              "<table border=\"1\" class=\"dataframe\">\n",
              "  <thead>\n",
              "    <tr style=\"text-align: right;\">\n",
              "      <th></th>\n",
              "      <th>type</th>\n",
              "      <th>Variance</th>\n",
              "      <th>stdev</th>\n",
              "    </tr>\n",
              "  </thead>\n",
              "  <tbody>\n",
              "    <tr>\n",
              "      <th>0</th>\n",
              "      <td>TV Show</td>\n",
              "      <td>2.547305</td>\n",
              "      <td>1.596028</td>\n",
              "    </tr>\n",
              "  </tbody>\n",
              "</table>\n",
              "</div>"
            ],
            "text/plain": [
              "      type  Variance     stdev\n",
              "0  TV Show  2.547305  1.596028"
            ]
          },
          "metadata": {},
          "execution_count": 11
        }
      ]
    },
    {
      "cell_type": "markdown",
      "metadata": {
        "id": "cPJjr3Y8AcwR"
      },
      "source": [
        "##**Part 4 -** Trend over time\n",
        "###This section will detail how Netflix library has trended in changing over time"
      ]
    },
    {
      "cell_type": "markdown",
      "metadata": {
        "id": "VPXe5Nc5p1eP"
      },
      "source": [
        "**16. This will look at the trend of number of movies and shows that were addded to the netflix library by year**"
      ]
    },
    {
      "cell_type": "code",
      "metadata": {
        "id": "MHHK_u_lfn07",
        "colab": {
          "base_uri": "https://localhost:8080/",
          "height": 204
        },
        "outputId": "6f67a9ab-121b-4fb7-dd2d-0ec563bad2be"
      },
      "source": [
        "%%bigquery --project=ba775-team8-b2\n",
        "SELECT  RIGHT(date_added, 4) AS year_added,\n",
        "    COUNT(release_year) as num_content_added\n",
        " FROM `ba775-team8-b2.Netflix.netflix_titles`\n",
        "GROUP BY year_added\n",
        "HAVING year_added <> 'none'\n",
        "ORDER BY year_added DESC\n",
        "Limit 5"
      ],
      "execution_count": 25,
      "outputs": [
        {
          "output_type": "execute_result",
          "data": {
            "text/html": [
              "<div>\n",
              "<style scoped>\n",
              "    .dataframe tbody tr th:only-of-type {\n",
              "        vertical-align: middle;\n",
              "    }\n",
              "\n",
              "    .dataframe tbody tr th {\n",
              "        vertical-align: top;\n",
              "    }\n",
              "\n",
              "    .dataframe thead th {\n",
              "        text-align: right;\n",
              "    }\n",
              "</style>\n",
              "<table border=\"1\" class=\"dataframe\">\n",
              "  <thead>\n",
              "    <tr style=\"text-align: right;\">\n",
              "      <th></th>\n",
              "      <th>year_added</th>\n",
              "      <th>num_content_added</th>\n",
              "    </tr>\n",
              "  </thead>\n",
              "  <tbody>\n",
              "    <tr>\n",
              "      <th>0</th>\n",
              "      <td>2021</td>\n",
              "      <td>117</td>\n",
              "    </tr>\n",
              "    <tr>\n",
              "      <th>1</th>\n",
              "      <td>2020</td>\n",
              "      <td>2009</td>\n",
              "    </tr>\n",
              "    <tr>\n",
              "      <th>2</th>\n",
              "      <td>2019</td>\n",
              "      <td>2153</td>\n",
              "    </tr>\n",
              "    <tr>\n",
              "      <th>3</th>\n",
              "      <td>2018</td>\n",
              "      <td>1685</td>\n",
              "    </tr>\n",
              "    <tr>\n",
              "      <th>4</th>\n",
              "      <td>2017</td>\n",
              "      <td>1225</td>\n",
              "    </tr>\n",
              "  </tbody>\n",
              "</table>\n",
              "</div>"
            ],
            "text/plain": [
              "  year_added  num_content_added\n",
              "0       2021                117\n",
              "1       2020               2009\n",
              "2       2019               2153\n",
              "3       2018               1685\n",
              "4       2017               1225"
            ]
          },
          "metadata": {},
          "execution_count": 25
        }
      ]
    },
    {
      "cell_type": "markdown",
      "metadata": {
        "id": "i1Vto4R5p-bw"
      },
      "source": [
        "Covid may have effected the amount of content that netflix could add last year, they must ensure they keep increase theri library to attract new customers and keep exisiting ones excited by new additions"
      ]
    },
    {
      "cell_type": "markdown",
      "metadata": {
        "id": "hGLl2JuaG9IM"
      },
      "source": [
        "**17. This query will output for Netflix the amount of content from each relese year based on rating type.**"
      ]
    },
    {
      "cell_type": "code",
      "metadata": {
        "colab": {
          "base_uri": "https://localhost:8080/",
          "height": 204
        },
        "id": "T0R4cdzOS6Ad",
        "outputId": "227eb6cf-7737-4cd6-f979-c2d9029818d2"
      },
      "source": [
        "%%bigquery --project=ba775-team8-b2\n",
        "SELECT release_year, rating as Type_Of_Rating, COUNT(*) as Total_Content FROM `ba775-team8-b2.Netflix.netflix_titles` \n",
        "GROUP BY rating, release_year\n",
        "ORDER BY release_year DESC\n",
        "Limit 5"
      ],
      "execution_count": 26,
      "outputs": [
        {
          "output_type": "execute_result",
          "data": {
            "text/html": [
              "<div>\n",
              "<style scoped>\n",
              "    .dataframe tbody tr th:only-of-type {\n",
              "        vertical-align: middle;\n",
              "    }\n",
              "\n",
              "    .dataframe tbody tr th {\n",
              "        vertical-align: top;\n",
              "    }\n",
              "\n",
              "    .dataframe thead th {\n",
              "        text-align: right;\n",
              "    }\n",
              "</style>\n",
              "<table border=\"1\" class=\"dataframe\">\n",
              "  <thead>\n",
              "    <tr style=\"text-align: right;\">\n",
              "      <th></th>\n",
              "      <th>release_year</th>\n",
              "      <th>Type_Of_Rating</th>\n",
              "      <th>Total_Content</th>\n",
              "    </tr>\n",
              "  </thead>\n",
              "  <tbody>\n",
              "    <tr>\n",
              "      <th>0</th>\n",
              "      <td>2021</td>\n",
              "      <td>TV-14</td>\n",
              "      <td>7</td>\n",
              "    </tr>\n",
              "    <tr>\n",
              "      <th>1</th>\n",
              "      <td>2021</td>\n",
              "      <td>R</td>\n",
              "      <td>1</td>\n",
              "    </tr>\n",
              "    <tr>\n",
              "      <th>2</th>\n",
              "      <td>2021</td>\n",
              "      <td>TV-G</td>\n",
              "      <td>2</td>\n",
              "    </tr>\n",
              "    <tr>\n",
              "      <th>3</th>\n",
              "      <td>2021</td>\n",
              "      <td>TV-MA</td>\n",
              "      <td>14</td>\n",
              "    </tr>\n",
              "    <tr>\n",
              "      <th>4</th>\n",
              "      <td>2021</td>\n",
              "      <td>TV-Y</td>\n",
              "      <td>2</td>\n",
              "    </tr>\n",
              "  </tbody>\n",
              "</table>\n",
              "</div>"
            ],
            "text/plain": [
              "   release_year Type_Of_Rating  Total_Content\n",
              "0          2021          TV-14              7\n",
              "1          2021              R              1\n",
              "2          2021           TV-G              2\n",
              "3          2021          TV-MA             14\n",
              "4          2021           TV-Y              2"
            ]
          },
          "metadata": {},
          "execution_count": 26
        }
      ]
    },
    {
      "cell_type": "markdown",
      "metadata": {
        "id": "1nq5MKmXqyGw"
      },
      "source": [
        "This could help them find gaps in their library to add G or PG rated shows from early years that may be wanted by older users to show their younger families. "
      ]
    },
    {
      "cell_type": "markdown",
      "metadata": {
        "id": "sIlpyBmGqzL4"
      },
      "source": [
        "**18. Bulding off the last query, this one will find the by year, which rating type has the largest amount of content on the Netflix library**"
      ]
    },
    {
      "cell_type": "code",
      "metadata": {
        "colab": {
          "base_uri": "https://localhost:8080/",
          "height": 204
        },
        "id": "EifR035pIUgp",
        "outputId": "589651e4-dcbc-4c1d-de51-8df5037fcbfd"
      },
      "source": [
        "%%bigquery --project=ba775-team8-b2\n",
        "SELECT tb1.release_year, tb1.Max_Content_Count, tb2.Type_Of_Rating \n",
        "FROM\n",
        "(\n",
        "    SELECT release_year, MAX(Total_Content) as Max_Content_Count \n",
        "    FROM (SELECT release_year, rating as Type_Of_Rating, COUNT(*) as Total_Content FROM `ba775-team8-b2.Netflix.netflix_titles` GROUP BY rating, release_year)\n",
        "    GROUP BY release_year\n",
        ") as tb1\n",
        "INNER JOIN (SELECT release_year, rating as Type_Of_Rating, COUNT(*) as Total_Content FROM `ba775-team8-b2.Netflix.netflix_titles` GROUP BY rating, release_year) as tb2\n",
        "ON tb1.release_year = tb2.release_year\n",
        "WHERE tb1.Max_Content_Count = tb2.Total_Content\n",
        "ORDER BY tb1.release_year DESC\n",
        "Limit 5"
      ],
      "execution_count": 27,
      "outputs": [
        {
          "output_type": "execute_result",
          "data": {
            "text/html": [
              "<div>\n",
              "<style scoped>\n",
              "    .dataframe tbody tr th:only-of-type {\n",
              "        vertical-align: middle;\n",
              "    }\n",
              "\n",
              "    .dataframe tbody tr th {\n",
              "        vertical-align: top;\n",
              "    }\n",
              "\n",
              "    .dataframe thead th {\n",
              "        text-align: right;\n",
              "    }\n",
              "</style>\n",
              "<table border=\"1\" class=\"dataframe\">\n",
              "  <thead>\n",
              "    <tr style=\"text-align: right;\">\n",
              "      <th></th>\n",
              "      <th>release_year</th>\n",
              "      <th>Max_Content_Count</th>\n",
              "      <th>Type_Of_Rating</th>\n",
              "    </tr>\n",
              "  </thead>\n",
              "  <tbody>\n",
              "    <tr>\n",
              "      <th>0</th>\n",
              "      <td>2021</td>\n",
              "      <td>14</td>\n",
              "      <td>TV-MA</td>\n",
              "    </tr>\n",
              "    <tr>\n",
              "      <th>1</th>\n",
              "      <td>2020</td>\n",
              "      <td>427</td>\n",
              "      <td>TV-MA</td>\n",
              "    </tr>\n",
              "    <tr>\n",
              "      <th>2</th>\n",
              "      <td>2019</td>\n",
              "      <td>499</td>\n",
              "      <td>TV-MA</td>\n",
              "    </tr>\n",
              "    <tr>\n",
              "      <th>3</th>\n",
              "      <td>2018</td>\n",
              "      <td>544</td>\n",
              "      <td>TV-MA</td>\n",
              "    </tr>\n",
              "    <tr>\n",
              "      <th>4</th>\n",
              "      <td>2017</td>\n",
              "      <td>453</td>\n",
              "      <td>TV-MA</td>\n",
              "    </tr>\n",
              "  </tbody>\n",
              "</table>\n",
              "</div>"
            ],
            "text/plain": [
              "   release_year  Max_Content_Count Type_Of_Rating\n",
              "0          2021                 14          TV-MA\n",
              "1          2020                427          TV-MA\n",
              "2          2019                499          TV-MA\n",
              "3          2018                544          TV-MA\n",
              "4          2017                453          TV-MA"
            ]
          },
          "metadata": {},
          "execution_count": 27
        }
      ]
    },
    {
      "cell_type": "markdown",
      "metadata": {
        "id": "em3WuyFIrC2o"
      },
      "source": [
        "**19. This query will breakdown which months in a given year over the duration of Netflix existence do they add the most new content to the library**\n",
        "\n"
      ]
    },
    {
      "cell_type": "code",
      "metadata": {
        "colab": {
          "base_uri": "https://localhost:8080/",
          "height": 421
        },
        "id": "XIbNHFPzFnOD",
        "outputId": "30998be6-6484-4910-f7d8-692f75010e8f"
      },
      "source": [
        "%%bigquery --project=ba775-team8-b2\n",
        "SELECT month_added, COUNT(*) AS num_content_added FROM \n",
        "(\n",
        "SELECT CASE \n",
        "WHEN date_added LIKE 'January%' THEN 'JAN'\n",
        "WHEN date_added LIKE 'February%' THEN 'FEB'\n",
        "WHEN date_added LIKE 'March%' THEN 'MAR'\n",
        "WHEN date_added LIKE 'April%' THEN 'APR'\n",
        "WHEN date_added LIKE 'May%' THEN 'MAY'\n",
        "WHEN date_added LIKE 'June%' THEN 'JUN'\n",
        "WHEN date_added LIKE 'July%' THEN 'JUL'\n",
        "WHEN date_added LIKE 'August%' THEN 'AUG'\n",
        "WHEN date_added LIKE 'September%' THEN 'SEP'\n",
        "WHEN date_added LIKE 'October%' THEN 'OCT'\n",
        "WHEN date_added LIKE 'November%' THEN 'NOV'\n",
        "WHEN date_added LIKE 'December%' THEN 'DEC'\n",
        "END AS month_added\n",
        "FROM `ba775-team8-b2.Netflix.netflix_titles`\n",
        "WHERE date_added IS NOT NULL \n",
        ")\n",
        "GROUP BY month_added\n",
        "HAVING month_added IS NOT NULL \n",
        "ORDER BY num_content_added DESC\n"
      ],
      "execution_count": null,
      "outputs": [
        {
          "output_type": "execute_result",
          "data": {
            "text/html": [
              "<div>\n",
              "<style scoped>\n",
              "    .dataframe tbody tr th:only-of-type {\n",
              "        vertical-align: middle;\n",
              "    }\n",
              "\n",
              "    .dataframe tbody tr th {\n",
              "        vertical-align: top;\n",
              "    }\n",
              "\n",
              "    .dataframe thead th {\n",
              "        text-align: right;\n",
              "    }\n",
              "</style>\n",
              "<table border=\"1\" class=\"dataframe\">\n",
              "  <thead>\n",
              "    <tr style=\"text-align: right;\">\n",
              "      <th></th>\n",
              "      <th>month_added</th>\n",
              "      <th>num_content_added</th>\n",
              "    </tr>\n",
              "  </thead>\n",
              "  <tbody>\n",
              "    <tr>\n",
              "      <th>0</th>\n",
              "      <td>DEC</td>\n",
              "      <td>817</td>\n",
              "    </tr>\n",
              "    <tr>\n",
              "      <th>1</th>\n",
              "      <td>OCT</td>\n",
              "      <td>780</td>\n",
              "    </tr>\n",
              "    <tr>\n",
              "      <th>2</th>\n",
              "      <td>JAN</td>\n",
              "      <td>746</td>\n",
              "    </tr>\n",
              "    <tr>\n",
              "      <th>3</th>\n",
              "      <td>NOV</td>\n",
              "      <td>730</td>\n",
              "    </tr>\n",
              "    <tr>\n",
              "      <th>4</th>\n",
              "      <td>MAR</td>\n",
              "      <td>661</td>\n",
              "    </tr>\n",
              "    <tr>\n",
              "      <th>5</th>\n",
              "      <td>SEP</td>\n",
              "      <td>614</td>\n",
              "    </tr>\n",
              "    <tr>\n",
              "      <th>6</th>\n",
              "      <td>AUG</td>\n",
              "      <td>612</td>\n",
              "    </tr>\n",
              "    <tr>\n",
              "      <th>7</th>\n",
              "      <td>APR</td>\n",
              "      <td>596</td>\n",
              "    </tr>\n",
              "    <tr>\n",
              "      <th>8</th>\n",
              "      <td>JUL</td>\n",
              "      <td>592</td>\n",
              "    </tr>\n",
              "    <tr>\n",
              "      <th>9</th>\n",
              "      <td>JUN</td>\n",
              "      <td>538</td>\n",
              "    </tr>\n",
              "    <tr>\n",
              "      <th>10</th>\n",
              "      <td>MAY</td>\n",
              "      <td>537</td>\n",
              "    </tr>\n",
              "    <tr>\n",
              "      <th>11</th>\n",
              "      <td>FEB</td>\n",
              "      <td>466</td>\n",
              "    </tr>\n",
              "  </tbody>\n",
              "</table>\n",
              "</div>"
            ],
            "text/plain": [
              "   month_added  num_content_added\n",
              "0          DEC                817\n",
              "1          OCT                780\n",
              "2          JAN                746\n",
              "3          NOV                730\n",
              "4          MAR                661\n",
              "5          SEP                614\n",
              "6          AUG                612\n",
              "7          APR                596\n",
              "8          JUL                592\n",
              "9          JUN                538\n",
              "10         MAY                537\n",
              "11         FEB                466"
            ]
          },
          "metadata": {},
          "execution_count": 9
        }
      ]
    },
    {
      "cell_type": "markdown",
      "metadata": {
        "id": "3kyHpWXerN4V"
      },
      "source": [
        "This trend of of the winter and fall months having the most amount of content added to Netflix should be compared with usage frequencies and new subrcribtions added to help Netflix maximize windows of attracting new users and keeping the base they have."
      ]
    },
    {
      "cell_type": "markdown",
      "metadata": {
        "id": "KiHGF7pJAtK-"
      },
      "source": [
        "##**Part 5 -** Maximizing User Amount / Research Analysis Conclusion\n",
        "###The United States users make up roughly 1/3rd of the total users in the Netflix library. As shown above how they majority of their library makes up content from the U.S. as well they should find ways to maximize their users in this country"
      ]
    },
    {
      "cell_type": "markdown",
      "metadata": {
        "id": "lczSql5Lrle-"
      },
      "source": [
        "**20. Recent research has shown that PG-13 movies are the most profitable rating type in theatres due to their broad audiecne reach. This query will invesitage what percent of movies produced in the U.S. have this rating (https://stephenfollows.com/which-mpaa-rating-earns-the-most-money/)**"
      ]
    },
    {
      "cell_type": "code",
      "metadata": {
        "id": "yfecWGpiA6xQ",
        "colab": {
          "base_uri": "https://localhost:8080/",
          "height": 80
        },
        "outputId": "241360af-fe99-424f-8fbe-e93da8c0fd38"
      },
      "source": [
        "%%bigquery --project=ba775-team8-b2\n",
        "\n",
        "Select ((SELECT COUNT(*) FROM `ba775-team8-b2.Netflix.netflix_titles` WHERE country = 'United States' and  type = 'Movie' AND rating = 'PG-13')*100/COUNT(*)) as US_PG13_movies_percentage\n",
        "FROM `ba775-team8-b2.Netflix.netflix_titles` \n",
        "WHERE country = 'United States' and  type = 'Movie'"
      ],
      "execution_count": null,
      "outputs": [
        {
          "output_type": "execute_result",
          "data": {
            "text/html": [
              "<div>\n",
              "<style scoped>\n",
              "    .dataframe tbody tr th:only-of-type {\n",
              "        vertical-align: middle;\n",
              "    }\n",
              "\n",
              "    .dataframe tbody tr th {\n",
              "        vertical-align: top;\n",
              "    }\n",
              "\n",
              "    .dataframe thead th {\n",
              "        text-align: right;\n",
              "    }\n",
              "</style>\n",
              "<table border=\"1\" class=\"dataframe\">\n",
              "  <thead>\n",
              "    <tr style=\"text-align: right;\">\n",
              "      <th></th>\n",
              "      <th>US_PG13_movies_percentage</th>\n",
              "    </tr>\n",
              "  </thead>\n",
              "  <tbody>\n",
              "    <tr>\n",
              "      <th>0</th>\n",
              "      <td>12.27027</td>\n",
              "    </tr>\n",
              "  </tbody>\n",
              "</table>\n",
              "</div>"
            ],
            "text/plain": [
              "   US_PG13_movies_percentage\n",
              "0                   12.27027"
            ]
          },
          "metadata": {},
          "execution_count": 39
        }
      ]
    },
    {
      "cell_type": "markdown",
      "metadata": {
        "id": "kovBizjHs_FN"
      },
      "source": [
        "Netflix may consider increasing the amount of moveis that are PG-13 from U.S. productions to further reach the broad audience it captures in theatres. "
      ]
    },
    {
      "cell_type": "markdown",
      "metadata": {
        "id": "e7iJ-3JytZzu"
      },
      "source": [
        "**21. This study has found over the last 25 years the ranking of highest grossing movie genres in North America. This query will investigate where the top 5 genres rank in amount of movies prodcued in the U.S. in the netflix library**"
      ]
    },
    {
      "cell_type": "code",
      "metadata": {
        "id": "4zG0wB2Wiwqz",
        "colab": {
          "base_uri": "https://localhost:8080/",
          "height": 328
        },
        "outputId": "26f05ea8-db53-41f9-e261-41fbee75372f"
      },
      "source": [
        "%%bigquery --project=ba775-team8-b2\n",
        "SELECT Top_grossing_movie_genres, COUNT(*) AS movie_genre_breakdown,  \n",
        "FROM \n",
        "(\n",
        "SELECT \n",
        "CASE \n",
        "  WHEN listed_in LIKE '%Adventure%' OR  listed_in LIKE '%Action%' THEN 'Rank 1: Adventure/Action'\n",
        "  WHEN listed_in LIKE '%Drama%' THEN 'Rank 2: Drama'\n",
        "  WHEN listed_in LIKE '%Comedy%' or listed_in LIKE '%Comedies%'  THEN 'Rank 3: Comedy'\n",
        "  WHEN listed_in LIKE '%Horror%' THEN 'Rank 4: Horror'\n",
        "  WHEN listed_in LIKE '%Thriller%' THEN 'Rank 5: Thriller'\n",
        "  WHEN listed_in LIKE '%Sci-Fi%' THEN 'Rank 6: Sci-fi'\n",
        "  WHEN listed_in LIKE '%Document%' THEN 'Rank 7: Documentaries'\n",
        "  WHEN listed_in LIKE '%Musical%' THEN 'Rank 8: Musical'\n",
        "  ELSE 'Other Genres' END AS Top_grossing_movie_genres\n",
        "FROM `ba775-team8-b2.Netflix.netflix_titles`\n",
        "WHERE type = 'Movie'\n",
        "AND country IN ('United States', 'Canada', 'Mexico')\n",
        "AND listed_in IS NOT NULL\n",
        ")\n",
        "GROUP BY Top_grossing_movie_genres\n",
        "ORDER BY movie_genre_breakdown DESC  "
      ],
      "execution_count": null,
      "outputs": [
        {
          "output_type": "execute_result",
          "data": {
            "text/html": [
              "<div>\n",
              "<style scoped>\n",
              "    .dataframe tbody tr th:only-of-type {\n",
              "        vertical-align: middle;\n",
              "    }\n",
              "\n",
              "    .dataframe tbody tr th {\n",
              "        vertical-align: top;\n",
              "    }\n",
              "\n",
              "    .dataframe thead th {\n",
              "        text-align: right;\n",
              "    }\n",
              "</style>\n",
              "<table border=\"1\" class=\"dataframe\">\n",
              "  <thead>\n",
              "    <tr style=\"text-align: right;\">\n",
              "      <th></th>\n",
              "      <th>Top_grossing_movie_genres</th>\n",
              "      <th>movie_genre_breakdown</th>\n",
              "    </tr>\n",
              "  </thead>\n",
              "  <tbody>\n",
              "    <tr>\n",
              "      <th>0</th>\n",
              "      <td>Rank 3: Comedy</td>\n",
              "      <td>580</td>\n",
              "    </tr>\n",
              "    <tr>\n",
              "      <th>1</th>\n",
              "      <td>Rank 2: Drama</td>\n",
              "      <td>528</td>\n",
              "    </tr>\n",
              "    <tr>\n",
              "      <th>2</th>\n",
              "      <td>Rank 7: Documentaries</td>\n",
              "      <td>406</td>\n",
              "    </tr>\n",
              "    <tr>\n",
              "      <th>3</th>\n",
              "      <td>Rank 1: Adventure/Action</td>\n",
              "      <td>210</td>\n",
              "    </tr>\n",
              "    <tr>\n",
              "      <th>4</th>\n",
              "      <td>Other Genres</td>\n",
              "      <td>127</td>\n",
              "    </tr>\n",
              "    <tr>\n",
              "      <th>5</th>\n",
              "      <td>Rank 4: Horror</td>\n",
              "      <td>111</td>\n",
              "    </tr>\n",
              "    <tr>\n",
              "      <th>6</th>\n",
              "      <td>Rank 5: Thriller</td>\n",
              "      <td>52</td>\n",
              "    </tr>\n",
              "    <tr>\n",
              "      <th>7</th>\n",
              "      <td>Rank 8: Musical</td>\n",
              "      <td>11</td>\n",
              "    </tr>\n",
              "    <tr>\n",
              "      <th>8</th>\n",
              "      <td>Rank 6: Sci-fi</td>\n",
              "      <td>8</td>\n",
              "    </tr>\n",
              "  </tbody>\n",
              "</table>\n",
              "</div>"
            ],
            "text/plain": [
              "  Top_grossing_movie_genres  movie_genre_breakdown\n",
              "0            Rank 3: Comedy                    580\n",
              "1             Rank 2: Drama                    528\n",
              "2     Rank 7: Documentaries                    406\n",
              "3  Rank 1: Adventure/Action                    210\n",
              "4              Other Genres                    127\n",
              "5            Rank 4: Horror                    111\n",
              "6          Rank 5: Thriller                     52\n",
              "7           Rank 8: Musical                     11\n",
              "8            Rank 6: Sci-fi                      8"
            ]
          },
          "metadata": {},
          "execution_count": 11
        }
      ]
    },
    {
      "cell_type": "markdown",
      "metadata": {
        "id": "U42-ZUM_uUFf"
      },
      "source": [
        "Action (47 billion) and Adventure(64 billion) rank highest in the charts at roughly 111 billion dollars in revenue, and Drama is section in 35 billion. Netflix should promote these on their site more and  add more content in these genres in order to increase users that are flocking to the theatres to see these movies over the last two decades."
      ]
    }
  ]
}